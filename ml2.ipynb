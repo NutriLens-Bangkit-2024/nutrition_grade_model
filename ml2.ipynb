{
 "cells": [
  {
   "cell_type": "markdown",
   "id": "b066af29",
   "metadata": {},
   "source": [
    "## Install Requirements"
   ]
  },
  {
   "cell_type": "code",
   "execution_count": 1,
   "id": "7edabb94023d106c",
   "metadata": {
    "ExecuteTime": {
     "end_time": "2024-06-03T13:45:36.613470Z",
     "start_time": "2024-06-03T13:42:54.009848Z"
    }
   },
   "outputs": [
    {
     "name": "stderr",
     "output_type": "stream",
     "text": [
      "\n",
      "[notice] A new release of pip is available: 23.2.1 -> 24.0\n",
      "[notice] To update, run: python.exe -m pip install --upgrade pip\n"
     ]
    }
   ],
   "source": [
    "!pip install -r requirements.txt --quiet"
   ]
  },
  {
   "cell_type": "markdown",
   "id": "5cb2daef",
   "metadata": {},
   "source": [
    "## Import Libraries"
   ]
  },
  {
   "cell_type": "code",
   "execution_count": 2,
   "id": "4fd0f8a8-9dc0-4a46-bca5-cd0dbdf6bc69",
   "metadata": {
    "ExecuteTime": {
     "end_time": "2024-06-04T19:31:19.780443Z",
     "start_time": "2024-06-04T19:31:19.764445Z"
    }
   },
   "outputs": [],
   "source": [
    "import pandas as pd\n",
    "import numpy as np\n",
    "import matplotlib.pyplot as plt\n",
    "import tensorflow as tf\n",
    "from tensorflow.keras.models import Sequential, load_model\n",
    "from tensorflow.keras.layers import Dense, Dropout\n",
    "from tensorflow.keras.callbacks import EarlyStopping, LearningRateScheduler, Callback\n",
    "from tensorflow.keras.optimizers import Adam, RMSprop\n",
    "from sklearn.model_selection import train_test_split\n",
    "from tensorflow.keras.layers import Normalization\n",
    "from sklearn.model_selection import KFold"
   ]
  },
  {
   "cell_type": "markdown",
   "id": "568d45ea",
   "metadata": {},
   "source": [
    "## Data Cleaning"
   ]
  },
  {
   "cell_type": "code",
   "execution_count": 5,
   "id": "edc3cd75",
   "metadata": {},
   "outputs": [
    {
     "name": "stdout",
     "output_type": "stream",
     "text": [
      "  1: Energi (kal)\n",
      "  2: Protein (g)\n",
      "  3: Lemak (g)\n",
      "  4: Gula (g)\n",
      "  5: Serat (g)\n",
      "  6: Natrium (mg)\n",
      "  7: Negative Score\n",
      "  8: Positif\n",
      "  9: Score\n",
      " 10: Grade\n"
     ]
    }
   ],
   "source": [
    "!csvcut -n dataset/NutriLens5.csv"
   ]
  },
  {
   "cell_type": "code",
   "execution_count": 8,
   "id": "2b2bdcd0",
   "metadata": {},
   "outputs": [],
   "source": [
    "!csvcut -c 1,2,3,4,5,6,10 dataset/NutriLens5.csv > dataset/NutriLensFinal.csv"
   ]
  },
  {
   "cell_type": "code",
   "execution_count": 9,
   "id": "73c7db61-b988-47c4-9e24-1b93a15035e6",
   "metadata": {
    "ExecuteTime": {
     "end_time": "2024-06-04T07:08:43.740714Z",
     "start_time": "2024-06-04T07:08:43.663243Z"
    }
   },
   "outputs": [
    {
     "data": {
      "text/html": [
       "<div>\n",
       "<style scoped>\n",
       "    .dataframe tbody tr th:only-of-type {\n",
       "        vertical-align: middle;\n",
       "    }\n",
       "\n",
       "    .dataframe tbody tr th {\n",
       "        vertical-align: top;\n",
       "    }\n",
       "\n",
       "    .dataframe thead th {\n",
       "        text-align: right;\n",
       "    }\n",
       "</style>\n",
       "<table border=\"1\" class=\"dataframe\">\n",
       "  <thead>\n",
       "    <tr style=\"text-align: right;\">\n",
       "      <th></th>\n",
       "      <th>Energi (kal)</th>\n",
       "      <th>Protein (g)</th>\n",
       "      <th>Lemak (g)</th>\n",
       "      <th>Gula (g)</th>\n",
       "      <th>Serat (g)</th>\n",
       "      <th>Natrium (mg)</th>\n",
       "      <th>Grade</th>\n",
       "    </tr>\n",
       "  </thead>\n",
       "  <tbody>\n",
       "    <tr>\n",
       "      <th>0</th>\n",
       "      <td>165.00</td>\n",
       "      <td>1.50</td>\n",
       "      <td>2.00</td>\n",
       "      <td>65.00</td>\n",
       "      <td>3.0</td>\n",
       "      <td>0.0000</td>\n",
       "      <td>C</td>\n",
       "    </tr>\n",
       "    <tr>\n",
       "      <th>1</th>\n",
       "      <td>0.00</td>\n",
       "      <td>2.70</td>\n",
       "      <td>0.90</td>\n",
       "      <td>9.80</td>\n",
       "      <td>0.0</td>\n",
       "      <td>0.1000</td>\n",
       "      <td>B</td>\n",
       "    </tr>\n",
       "    <tr>\n",
       "      <th>2</th>\n",
       "      <td>57.00</td>\n",
       "      <td>10.00</td>\n",
       "      <td>0.10</td>\n",
       "      <td>3.90</td>\n",
       "      <td>0.0</td>\n",
       "      <td>0.0900</td>\n",
       "      <td>A</td>\n",
       "    </tr>\n",
       "    <tr>\n",
       "      <th>3</th>\n",
       "      <td>375.00</td>\n",
       "      <td>7.80</td>\n",
       "      <td>3.08</td>\n",
       "      <td>70.10</td>\n",
       "      <td>0.0</td>\n",
       "      <td>1.4000</td>\n",
       "      <td>D</td>\n",
       "    </tr>\n",
       "    <tr>\n",
       "      <th>4</th>\n",
       "      <td>163.90</td>\n",
       "      <td>15.30</td>\n",
       "      <td>1.00</td>\n",
       "      <td>0.00</td>\n",
       "      <td>0.0</td>\n",
       "      <td>1.1000</td>\n",
       "      <td>A</td>\n",
       "    </tr>\n",
       "    <tr>\n",
       "      <th>...</th>\n",
       "      <td>...</td>\n",
       "      <td>...</td>\n",
       "      <td>...</td>\n",
       "      <td>...</td>\n",
       "      <td>...</td>\n",
       "      <td>...</td>\n",
       "      <td>...</td>\n",
       "    </tr>\n",
       "    <tr>\n",
       "      <th>104994</th>\n",
       "      <td>299.21</td>\n",
       "      <td>8.66</td>\n",
       "      <td>7.09</td>\n",
       "      <td>19.69</td>\n",
       "      <td>0.8</td>\n",
       "      <td>0.0000</td>\n",
       "      <td>C</td>\n",
       "    </tr>\n",
       "    <tr>\n",
       "      <th>104995</th>\n",
       "      <td>257.00</td>\n",
       "      <td>10.62</td>\n",
       "      <td>2.21</td>\n",
       "      <td>28.32</td>\n",
       "      <td>0.9</td>\n",
       "      <td>0.6050</td>\n",
       "      <td>C</td>\n",
       "    </tr>\n",
       "    <tr>\n",
       "      <th>104996</th>\n",
       "      <td>238.00</td>\n",
       "      <td>9.90</td>\n",
       "      <td>0.50</td>\n",
       "      <td>25.74</td>\n",
       "      <td>0.0</td>\n",
       "      <td>1.6075</td>\n",
       "      <td>B</td>\n",
       "    </tr>\n",
       "    <tr>\n",
       "      <th>104997</th>\n",
       "      <td>40.00</td>\n",
       "      <td>0.81</td>\n",
       "      <td>0.00</td>\n",
       "      <td>10.48</td>\n",
       "      <td>1.6</td>\n",
       "      <td>1.6075</td>\n",
       "      <td>B</td>\n",
       "    </tr>\n",
       "    <tr>\n",
       "      <th>104998</th>\n",
       "      <td>71.00</td>\n",
       "      <td>0.00</td>\n",
       "      <td>0.00</td>\n",
       "      <td>18.25</td>\n",
       "      <td>0.8</td>\n",
       "      <td>1.6075</td>\n",
       "      <td>C</td>\n",
       "    </tr>\n",
       "  </tbody>\n",
       "</table>\n",
       "<p>104999 rows × 7 columns</p>\n",
       "</div>"
      ],
      "text/plain": [
       "        Energi (kal)  Protein (g)  Lemak (g)  Gula (g)  Serat (g)  \\\n",
       "0             165.00         1.50       2.00     65.00        3.0   \n",
       "1               0.00         2.70       0.90      9.80        0.0   \n",
       "2              57.00        10.00       0.10      3.90        0.0   \n",
       "3             375.00         7.80       3.08     70.10        0.0   \n",
       "4             163.90        15.30       1.00      0.00        0.0   \n",
       "...              ...          ...        ...       ...        ...   \n",
       "104994        299.21         8.66       7.09     19.69        0.8   \n",
       "104995        257.00        10.62       2.21     28.32        0.9   \n",
       "104996        238.00         9.90       0.50     25.74        0.0   \n",
       "104997         40.00         0.81       0.00     10.48        1.6   \n",
       "104998         71.00         0.00       0.00     18.25        0.8   \n",
       "\n",
       "        Natrium (mg) Grade  \n",
       "0             0.0000     C  \n",
       "1             0.1000     B  \n",
       "2             0.0900     A  \n",
       "3             1.4000     D  \n",
       "4             1.1000     A  \n",
       "...              ...   ...  \n",
       "104994        0.0000     C  \n",
       "104995        0.6050     C  \n",
       "104996        1.6075     B  \n",
       "104997        1.6075     B  \n",
       "104998        1.6075     C  \n",
       "\n",
       "[104999 rows x 7 columns]"
      ]
     },
     "execution_count": 9,
     "metadata": {},
     "output_type": "execute_result"
    }
   ],
   "source": [
    "data = pd.read_csv('dataset/NutriLensFinal.csv')\n",
    "data"
   ]
  },
  {
   "cell_type": "code",
   "execution_count": 10,
   "id": "ccbc6cf2ddfbe0ea",
   "metadata": {
    "ExecuteTime": {
     "end_time": "2024-06-04T07:08:45.668470Z",
     "start_time": "2024-06-04T07:08:45.641955Z"
    }
   },
   "outputs": [
    {
     "name": "stdout",
     "output_type": "stream",
     "text": [
      "<class 'pandas.core.frame.DataFrame'>\n",
      "RangeIndex: 104999 entries, 0 to 104998\n",
      "Data columns (total 7 columns):\n",
      " #   Column        Non-Null Count   Dtype  \n",
      "---  ------        --------------   -----  \n",
      " 0   Energi (kal)  104999 non-null  float64\n",
      " 1   Protein (g)   104999 non-null  float64\n",
      " 2   Lemak (g)     104999 non-null  float64\n",
      " 3   Gula (g)      104999 non-null  float64\n",
      " 4   Serat (g)     104999 non-null  float64\n",
      " 5   Natrium (mg)  104999 non-null  float64\n",
      " 6   Grade         104999 non-null  object \n",
      "dtypes: float64(6), object(1)\n",
      "memory usage: 5.6+ MB\n"
     ]
    }
   ],
   "source": [
    "data.info()"
   ]
  },
  {
   "cell_type": "code",
   "execution_count": 11,
   "id": "2206071b1320aa5e",
   "metadata": {
    "ExecuteTime": {
     "end_time": "2024-06-04T07:08:45.951138Z",
     "start_time": "2024-06-04T07:08:45.910132Z"
    }
   },
   "outputs": [
    {
     "data": {
      "text/html": [
       "<div>\n",
       "<style scoped>\n",
       "    .dataframe tbody tr th:only-of-type {\n",
       "        vertical-align: middle;\n",
       "    }\n",
       "\n",
       "    .dataframe tbody tr th {\n",
       "        vertical-align: top;\n",
       "    }\n",
       "\n",
       "    .dataframe thead th {\n",
       "        text-align: right;\n",
       "    }\n",
       "</style>\n",
       "<table border=\"1\" class=\"dataframe\">\n",
       "  <thead>\n",
       "    <tr style=\"text-align: right;\">\n",
       "      <th></th>\n",
       "      <th>Energi (kal)</th>\n",
       "      <th>Protein (g)</th>\n",
       "      <th>Lemak (g)</th>\n",
       "      <th>Gula (g)</th>\n",
       "      <th>Serat (g)</th>\n",
       "      <th>Natrium (mg)</th>\n",
       "      <th>Grade</th>\n",
       "    </tr>\n",
       "  </thead>\n",
       "  <tbody>\n",
       "    <tr>\n",
       "      <th>count</th>\n",
       "      <td>1.049990e+05</td>\n",
       "      <td>104999.000000</td>\n",
       "      <td>104999.000000</td>\n",
       "      <td>104999.000000</td>\n",
       "      <td>104999.000000</td>\n",
       "      <td>104999.000000</td>\n",
       "      <td>104999</td>\n",
       "    </tr>\n",
       "    <tr>\n",
       "      <th>unique</th>\n",
       "      <td>NaN</td>\n",
       "      <td>NaN</td>\n",
       "      <td>NaN</td>\n",
       "      <td>NaN</td>\n",
       "      <td>NaN</td>\n",
       "      <td>NaN</td>\n",
       "      <td>5</td>\n",
       "    </tr>\n",
       "    <tr>\n",
       "      <th>top</th>\n",
       "      <td>NaN</td>\n",
       "      <td>NaN</td>\n",
       "      <td>NaN</td>\n",
       "      <td>NaN</td>\n",
       "      <td>NaN</td>\n",
       "      <td>NaN</td>\n",
       "      <td>C</td>\n",
       "    </tr>\n",
       "    <tr>\n",
       "      <th>freq</th>\n",
       "      <td>NaN</td>\n",
       "      <td>NaN</td>\n",
       "      <td>NaN</td>\n",
       "      <td>NaN</td>\n",
       "      <td>NaN</td>\n",
       "      <td>NaN</td>\n",
       "      <td>37370</td>\n",
       "    </tr>\n",
       "    <tr>\n",
       "      <th>mean</th>\n",
       "      <td>2.875606e+02</td>\n",
       "      <td>8.376449</td>\n",
       "      <td>4.394928</td>\n",
       "      <td>36.876934</td>\n",
       "      <td>2.146506</td>\n",
       "      <td>7.392016</td>\n",
       "      <td>NaN</td>\n",
       "    </tr>\n",
       "    <tr>\n",
       "      <th>std</th>\n",
       "      <td>5.267588e+03</td>\n",
       "      <td>125.953423</td>\n",
       "      <td>10.557929</td>\n",
       "      <td>1389.747055</td>\n",
       "      <td>10.106481</td>\n",
       "      <td>1544.238736</td>\n",
       "      <td>NaN</td>\n",
       "    </tr>\n",
       "    <tr>\n",
       "      <th>min</th>\n",
       "      <td>0.000000e+00</td>\n",
       "      <td>0.000000</td>\n",
       "      <td>0.000000</td>\n",
       "      <td>0.000000</td>\n",
       "      <td>0.000000</td>\n",
       "      <td>0.000000</td>\n",
       "      <td>NaN</td>\n",
       "    </tr>\n",
       "    <tr>\n",
       "      <th>25%</th>\n",
       "      <td>8.500000e+01</td>\n",
       "      <td>0.420000</td>\n",
       "      <td>0.000000</td>\n",
       "      <td>6.250000</td>\n",
       "      <td>0.000000</td>\n",
       "      <td>0.020000</td>\n",
       "      <td>NaN</td>\n",
       "    </tr>\n",
       "    <tr>\n",
       "      <th>50%</th>\n",
       "      <td>2.630000e+02</td>\n",
       "      <td>4.760000</td>\n",
       "      <td>1.100000</td>\n",
       "      <td>20.799999</td>\n",
       "      <td>0.000000</td>\n",
       "      <td>0.565000</td>\n",
       "      <td>NaN</td>\n",
       "    </tr>\n",
       "    <tr>\n",
       "      <th>75%</th>\n",
       "      <td>4.000000e+02</td>\n",
       "      <td>10.300000</td>\n",
       "      <td>6.000000</td>\n",
       "      <td>58.820000</td>\n",
       "      <td>2.702703</td>\n",
       "      <td>1.372500</td>\n",
       "      <td>NaN</td>\n",
       "    </tr>\n",
       "    <tr>\n",
       "      <th>max</th>\n",
       "      <td>1.700000e+06</td>\n",
       "      <td>40000.000000</td>\n",
       "      <td>1448.571400</td>\n",
       "      <td>450000.000000</td>\n",
       "      <td>1700.000000</td>\n",
       "      <td>500000.000000</td>\n",
       "      <td>NaN</td>\n",
       "    </tr>\n",
       "  </tbody>\n",
       "</table>\n",
       "</div>"
      ],
      "text/plain": [
       "        Energi (kal)    Protein (g)      Lemak (g)       Gula (g)  \\\n",
       "count   1.049990e+05  104999.000000  104999.000000  104999.000000   \n",
       "unique           NaN            NaN            NaN            NaN   \n",
       "top              NaN            NaN            NaN            NaN   \n",
       "freq             NaN            NaN            NaN            NaN   \n",
       "mean    2.875606e+02       8.376449       4.394928      36.876934   \n",
       "std     5.267588e+03     125.953423      10.557929    1389.747055   \n",
       "min     0.000000e+00       0.000000       0.000000       0.000000   \n",
       "25%     8.500000e+01       0.420000       0.000000       6.250000   \n",
       "50%     2.630000e+02       4.760000       1.100000      20.799999   \n",
       "75%     4.000000e+02      10.300000       6.000000      58.820000   \n",
       "max     1.700000e+06   40000.000000    1448.571400  450000.000000   \n",
       "\n",
       "            Serat (g)   Natrium (mg)   Grade  \n",
       "count   104999.000000  104999.000000  104999  \n",
       "unique            NaN            NaN       5  \n",
       "top               NaN            NaN       C  \n",
       "freq              NaN            NaN   37370  \n",
       "mean         2.146506       7.392016     NaN  \n",
       "std         10.106481    1544.238736     NaN  \n",
       "min          0.000000       0.000000     NaN  \n",
       "25%          0.000000       0.020000     NaN  \n",
       "50%          0.000000       0.565000     NaN  \n",
       "75%          2.702703       1.372500     NaN  \n",
       "max       1700.000000  500000.000000     NaN  "
      ]
     },
     "execution_count": 11,
     "metadata": {},
     "output_type": "execute_result"
    }
   ],
   "source": [
    "data.describe(include='all')"
   ]
  },
  {
   "cell_type": "code",
   "execution_count": 12,
   "id": "11bd084bfe9b1331",
   "metadata": {
    "ExecuteTime": {
     "end_time": "2024-06-04T07:08:46.293557Z",
     "start_time": "2024-06-04T07:08:46.281557Z"
    }
   },
   "outputs": [
    {
     "data": {
      "text/plain": [
       "Grade\n",
       "C    37370\n",
       "D    23185\n",
       "B    22654\n",
       "A    14415\n",
       "E     7375\n",
       "Name: count, dtype: int64"
      ]
     },
     "execution_count": 12,
     "metadata": {},
     "output_type": "execute_result"
    }
   ],
   "source": [
    "data['Grade'].value_counts()"
   ]
  },
  {
   "cell_type": "code",
   "execution_count": 13,
   "id": "d715b0c6-3d19-4d8b-a954-ebcae92e3d7e",
   "metadata": {
    "ExecuteTime": {
     "end_time": "2024-06-04T07:08:47.127037Z",
     "start_time": "2024-06-04T07:08:47.102036Z"
    }
   },
   "outputs": [
    {
     "data": {
      "text/html": [
       "<div>\n",
       "<style scoped>\n",
       "    .dataframe tbody tr th:only-of-type {\n",
       "        vertical-align: middle;\n",
       "    }\n",
       "\n",
       "    .dataframe tbody tr th {\n",
       "        vertical-align: top;\n",
       "    }\n",
       "\n",
       "    .dataframe thead th {\n",
       "        text-align: right;\n",
       "    }\n",
       "</style>\n",
       "<table border=\"1\" class=\"dataframe\">\n",
       "  <thead>\n",
       "    <tr style=\"text-align: right;\">\n",
       "      <th></th>\n",
       "      <th>Energi (kal)</th>\n",
       "      <th>Protein (g)</th>\n",
       "      <th>Lemak (g)</th>\n",
       "      <th>Gula (g)</th>\n",
       "      <th>Serat (g)</th>\n",
       "      <th>Natrium (mg)</th>\n",
       "      <th>Grade</th>\n",
       "    </tr>\n",
       "  </thead>\n",
       "  <tbody>\n",
       "    <tr>\n",
       "      <th>8567</th>\n",
       "      <td>0.000000</td>\n",
       "      <td>42.857143</td>\n",
       "      <td>1448.5714</td>\n",
       "      <td>0.000000</td>\n",
       "      <td>0.0</td>\n",
       "      <td>1.250000</td>\n",
       "      <td>C</td>\n",
       "    </tr>\n",
       "    <tr>\n",
       "      <th>936</th>\n",
       "      <td>58000.000000</td>\n",
       "      <td>4000.000000</td>\n",
       "      <td>1200.0000</td>\n",
       "      <td>2800.000000</td>\n",
       "      <td>400.0</td>\n",
       "      <td>0.000000</td>\n",
       "      <td>E</td>\n",
       "    </tr>\n",
       "    <tr>\n",
       "      <th>10909</th>\n",
       "      <td>22000.000000</td>\n",
       "      <td>200.000000</td>\n",
       "      <td>1000.0000</td>\n",
       "      <td>2200.000000</td>\n",
       "      <td>300.0</td>\n",
       "      <td>0.000000</td>\n",
       "      <td>E</td>\n",
       "    </tr>\n",
       "    <tr>\n",
       "      <th>57319</th>\n",
       "      <td>37000.000000</td>\n",
       "      <td>3200.000000</td>\n",
       "      <td>1000.0000</td>\n",
       "      <td>0.000000</td>\n",
       "      <td>0.0</td>\n",
       "      <td>2.833333</td>\n",
       "      <td>D</td>\n",
       "    </tr>\n",
       "    <tr>\n",
       "      <th>77499</th>\n",
       "      <td>38000.000000</td>\n",
       "      <td>1800.000000</td>\n",
       "      <td>600.0000</td>\n",
       "      <td>5800.000000</td>\n",
       "      <td>400.0</td>\n",
       "      <td>0.040000</td>\n",
       "      <td>E</td>\n",
       "    </tr>\n",
       "    <tr>\n",
       "      <th>...</th>\n",
       "      <td>...</td>\n",
       "      <td>...</td>\n",
       "      <td>...</td>\n",
       "      <td>...</td>\n",
       "      <td>...</td>\n",
       "      <td>...</td>\n",
       "      <td>...</td>\n",
       "    </tr>\n",
       "    <tr>\n",
       "      <th>104016</th>\n",
       "      <td>73.000000</td>\n",
       "      <td>0.000000</td>\n",
       "      <td>0.0000</td>\n",
       "      <td>18.180000</td>\n",
       "      <td>0.0</td>\n",
       "      <td>0.000000</td>\n",
       "      <td>C</td>\n",
       "    </tr>\n",
       "    <tr>\n",
       "      <th>87421</th>\n",
       "      <td>20.000000</td>\n",
       "      <td>0.000000</td>\n",
       "      <td>0.0000</td>\n",
       "      <td>6.000000</td>\n",
       "      <td>0.0</td>\n",
       "      <td>0.000000</td>\n",
       "      <td>B</td>\n",
       "    </tr>\n",
       "    <tr>\n",
       "      <th>87395</th>\n",
       "      <td>166.666667</td>\n",
       "      <td>6.666667</td>\n",
       "      <td>0.0000</td>\n",
       "      <td>33.333333</td>\n",
       "      <td>0.0</td>\n",
       "      <td>0.000000</td>\n",
       "      <td>C</td>\n",
       "    </tr>\n",
       "    <tr>\n",
       "      <th>18003</th>\n",
       "      <td>233.000000</td>\n",
       "      <td>0.000000</td>\n",
       "      <td>0.0000</td>\n",
       "      <td>46.670000</td>\n",
       "      <td>0.0</td>\n",
       "      <td>2.417500</td>\n",
       "      <td>D</td>\n",
       "    </tr>\n",
       "    <tr>\n",
       "      <th>87427</th>\n",
       "      <td>750.000000</td>\n",
       "      <td>0.000000</td>\n",
       "      <td>0.0000</td>\n",
       "      <td>100.000000</td>\n",
       "      <td>0.0</td>\n",
       "      <td>2.232500</td>\n",
       "      <td>E</td>\n",
       "    </tr>\n",
       "  </tbody>\n",
       "</table>\n",
       "<p>23194 rows × 7 columns</p>\n",
       "</div>"
      ],
      "text/plain": [
       "        Energi (kal)  Protein (g)  Lemak (g)     Gula (g)  Serat (g)  \\\n",
       "8567        0.000000    42.857143  1448.5714     0.000000        0.0   \n",
       "936     58000.000000  4000.000000  1200.0000  2800.000000      400.0   \n",
       "10909   22000.000000   200.000000  1000.0000  2200.000000      300.0   \n",
       "57319   37000.000000  3200.000000  1000.0000     0.000000        0.0   \n",
       "77499   38000.000000  1800.000000   600.0000  5800.000000      400.0   \n",
       "...              ...          ...        ...          ...        ...   \n",
       "104016     73.000000     0.000000     0.0000    18.180000        0.0   \n",
       "87421      20.000000     0.000000     0.0000     6.000000        0.0   \n",
       "87395     166.666667     6.666667     0.0000    33.333333        0.0   \n",
       "18003     233.000000     0.000000     0.0000    46.670000        0.0   \n",
       "87427     750.000000     0.000000     0.0000   100.000000        0.0   \n",
       "\n",
       "        Natrium (mg) Grade  \n",
       "8567        1.250000     C  \n",
       "936         0.000000     E  \n",
       "10909       0.000000     E  \n",
       "57319       2.833333     D  \n",
       "77499       0.040000     E  \n",
       "...              ...   ...  \n",
       "104016      0.000000     C  \n",
       "87421       0.000000     B  \n",
       "87395       0.000000     C  \n",
       "18003       2.417500     D  \n",
       "87427       2.232500     E  \n",
       "\n",
       "[23194 rows x 7 columns]"
      ]
     },
     "execution_count": 13,
     "metadata": {},
     "output_type": "execute_result"
    }
   ],
   "source": [
    "data.sort_values(by='Lemak (g)', ascending=False).groupby('Lemak (g)').head(20)"
   ]
  },
  {
   "cell_type": "code",
   "execution_count": 14,
   "id": "6e15f7cd-93b0-4929-b001-76b380f80ad1",
   "metadata": {
    "ExecuteTime": {
     "end_time": "2024-06-04T07:08:47.772442Z",
     "start_time": "2024-06-04T07:08:47.760439Z"
    }
   },
   "outputs": [
    {
     "data": {
      "text/html": [
       "<div>\n",
       "<style scoped>\n",
       "    .dataframe tbody tr th:only-of-type {\n",
       "        vertical-align: middle;\n",
       "    }\n",
       "\n",
       "    .dataframe tbody tr th {\n",
       "        vertical-align: top;\n",
       "    }\n",
       "\n",
       "    .dataframe thead th {\n",
       "        text-align: right;\n",
       "    }\n",
       "</style>\n",
       "<table border=\"1\" class=\"dataframe\">\n",
       "  <thead>\n",
       "    <tr style=\"text-align: right;\">\n",
       "      <th></th>\n",
       "      <th>Energi (kal)</th>\n",
       "      <th>Protein (g)</th>\n",
       "      <th>Lemak (g)</th>\n",
       "      <th>Gula (g)</th>\n",
       "      <th>Serat (g)</th>\n",
       "      <th>Natrium (mg)</th>\n",
       "      <th>Grade</th>\n",
       "    </tr>\n",
       "  </thead>\n",
       "  <tbody>\n",
       "    <tr>\n",
       "      <th>0</th>\n",
       "      <td>165.00</td>\n",
       "      <td>1.50</td>\n",
       "      <td>2.00</td>\n",
       "      <td>65.00</td>\n",
       "      <td>3.0</td>\n",
       "      <td>0.0000</td>\n",
       "      <td>C</td>\n",
       "    </tr>\n",
       "    <tr>\n",
       "      <th>8</th>\n",
       "      <td>0.00</td>\n",
       "      <td>5.10</td>\n",
       "      <td>2.20</td>\n",
       "      <td>29.00</td>\n",
       "      <td>0.0</td>\n",
       "      <td>4.6000</td>\n",
       "      <td>C</td>\n",
       "    </tr>\n",
       "    <tr>\n",
       "      <th>12</th>\n",
       "      <td>63.00</td>\n",
       "      <td>0.20</td>\n",
       "      <td>0.00</td>\n",
       "      <td>15.50</td>\n",
       "      <td>0.0</td>\n",
       "      <td>0.0000</td>\n",
       "      <td>C</td>\n",
       "    </tr>\n",
       "    <tr>\n",
       "      <th>14</th>\n",
       "      <td>129.00</td>\n",
       "      <td>4.40</td>\n",
       "      <td>3.10</td>\n",
       "      <td>16.30</td>\n",
       "      <td>0.0</td>\n",
       "      <td>0.0000</td>\n",
       "      <td>C</td>\n",
       "    </tr>\n",
       "    <tr>\n",
       "      <th>17</th>\n",
       "      <td>222.00</td>\n",
       "      <td>11.70</td>\n",
       "      <td>2.10</td>\n",
       "      <td>38.40</td>\n",
       "      <td>0.0</td>\n",
       "      <td>0.0000</td>\n",
       "      <td>C</td>\n",
       "    </tr>\n",
       "    <tr>\n",
       "      <th>...</th>\n",
       "      <td>...</td>\n",
       "      <td>...</td>\n",
       "      <td>...</td>\n",
       "      <td>...</td>\n",
       "      <td>...</td>\n",
       "      <td>...</td>\n",
       "      <td>...</td>\n",
       "    </tr>\n",
       "    <tr>\n",
       "      <th>104988</th>\n",
       "      <td>305.00</td>\n",
       "      <td>8.59</td>\n",
       "      <td>7.81</td>\n",
       "      <td>23.44</td>\n",
       "      <td>3.1</td>\n",
       "      <td>0.0000</td>\n",
       "      <td>C</td>\n",
       "    </tr>\n",
       "    <tr>\n",
       "      <th>104991</th>\n",
       "      <td>193.00</td>\n",
       "      <td>10.08</td>\n",
       "      <td>2.52</td>\n",
       "      <td>23.53</td>\n",
       "      <td>0.8</td>\n",
       "      <td>1.2675</td>\n",
       "      <td>C</td>\n",
       "    </tr>\n",
       "    <tr>\n",
       "      <th>104994</th>\n",
       "      <td>299.21</td>\n",
       "      <td>8.66</td>\n",
       "      <td>7.09</td>\n",
       "      <td>19.69</td>\n",
       "      <td>0.8</td>\n",
       "      <td>0.0000</td>\n",
       "      <td>C</td>\n",
       "    </tr>\n",
       "    <tr>\n",
       "      <th>104995</th>\n",
       "      <td>257.00</td>\n",
       "      <td>10.62</td>\n",
       "      <td>2.21</td>\n",
       "      <td>28.32</td>\n",
       "      <td>0.9</td>\n",
       "      <td>0.6050</td>\n",
       "      <td>C</td>\n",
       "    </tr>\n",
       "    <tr>\n",
       "      <th>104998</th>\n",
       "      <td>71.00</td>\n",
       "      <td>0.00</td>\n",
       "      <td>0.00</td>\n",
       "      <td>18.25</td>\n",
       "      <td>0.8</td>\n",
       "      <td>1.6075</td>\n",
       "      <td>C</td>\n",
       "    </tr>\n",
       "  </tbody>\n",
       "</table>\n",
       "<p>37370 rows × 7 columns</p>\n",
       "</div>"
      ],
      "text/plain": [
       "        Energi (kal)  Protein (g)  Lemak (g)  Gula (g)  Serat (g)  \\\n",
       "0             165.00         1.50       2.00     65.00        3.0   \n",
       "8               0.00         5.10       2.20     29.00        0.0   \n",
       "12             63.00         0.20       0.00     15.50        0.0   \n",
       "14            129.00         4.40       3.10     16.30        0.0   \n",
       "17            222.00        11.70       2.10     38.40        0.0   \n",
       "...              ...          ...        ...       ...        ...   \n",
       "104988        305.00         8.59       7.81     23.44        3.1   \n",
       "104991        193.00        10.08       2.52     23.53        0.8   \n",
       "104994        299.21         8.66       7.09     19.69        0.8   \n",
       "104995        257.00        10.62       2.21     28.32        0.9   \n",
       "104998         71.00         0.00       0.00     18.25        0.8   \n",
       "\n",
       "        Natrium (mg) Grade  \n",
       "0             0.0000     C  \n",
       "8             4.6000     C  \n",
       "12            0.0000     C  \n",
       "14            0.0000     C  \n",
       "17            0.0000     C  \n",
       "...              ...   ...  \n",
       "104988        0.0000     C  \n",
       "104991        1.2675     C  \n",
       "104994        0.0000     C  \n",
       "104995        0.6050     C  \n",
       "104998        1.6075     C  \n",
       "\n",
       "[37370 rows x 7 columns]"
      ]
     },
     "execution_count": 14,
     "metadata": {},
     "output_type": "execute_result"
    }
   ],
   "source": [
    "data[data['Grade'] == \"C\"]"
   ]
  },
  {
   "cell_type": "code",
   "execution_count": 15,
   "id": "6359eba0-ffe3-4279-a488-95f1737ec9c6",
   "metadata": {
    "ExecuteTime": {
     "end_time": "2024-06-04T07:08:48.528072Z",
     "start_time": "2024-06-04T07:08:48.515068Z"
    }
   },
   "outputs": [],
   "source": [
    "data.columns = data.columns.str.lower().str.replace(\" \",\"_\")"
   ]
  },
  {
   "cell_type": "code",
   "execution_count": 16,
   "id": "c3d7e423-01c0-44b1-a45a-cdd9d53c53e6",
   "metadata": {
    "ExecuteTime": {
     "end_time": "2024-06-04T07:08:49.137181Z",
     "start_time": "2024-06-04T07:08:49.119180Z"
    }
   },
   "outputs": [
    {
     "data": {
      "text/plain": [
       "Index(['energi_(kal)', 'protein_(g)', 'lemak_(g)', 'gula_(g)', 'serat_(g)',\n",
       "       'natrium_(mg)', 'grade'],\n",
       "      dtype='object')"
      ]
     },
     "execution_count": 16,
     "metadata": {},
     "output_type": "execute_result"
    }
   ],
   "source": [
    "data.columns"
   ]
  },
  {
   "cell_type": "markdown",
   "id": "6b635a7e",
   "metadata": {},
   "source": [
    "## Split data training and validation"
   ]
  },
  {
   "cell_type": "code",
   "execution_count": 17,
   "id": "693248fb-f5b3-4389-87f2-bd233024d60f",
   "metadata": {
    "ExecuteTime": {
     "end_time": "2024-06-04T07:08:49.747301Z",
     "start_time": "2024-06-04T07:08:49.736300Z"
    }
   },
   "outputs": [],
   "source": [
    "X = data[['energi_(kal)', 'protein_(g)', 'lemak_(g)','gula_(g)', 'serat_(g)', 'natrium_(mg)']].values\n",
    "y = data['grade'].values"
   ]
  },
  {
   "cell_type": "code",
   "execution_count": 18,
   "id": "e63b6f72-ddaa-4d89-ad6b-5a11d23e13ec",
   "metadata": {
    "ExecuteTime": {
     "end_time": "2024-06-04T07:08:50.467747Z",
     "start_time": "2024-06-04T07:08:50.377991Z"
    }
   },
   "outputs": [],
   "source": [
    "grade_mapping = {'A': 0, 'B': 1, 'C': 2, 'D': 3, 'E': 4}\n",
    "y_integers = np.array([grade_mapping[grade] for grade in y])\n",
    "y = tf.one_hot(y_integers, depth=len(grade_mapping))\n",
    "# Convert the one-hot encoded tensor to a NumPy array\n",
    "y_one_hot_array = y.numpy()\n",
    "\n",
    "# Now you can use train_test_split with the NumPy array\n",
    "X_train, X_test, y_train, y_test = train_test_split(X, y_one_hot_array, test_size=0.2, random_state=42)\n"
   ]
  },
  {
   "cell_type": "markdown",
   "id": "4589d2b9",
   "metadata": {},
   "source": [
    "## Building Model"
   ]
  },
  {
   "cell_type": "code",
   "execution_count": 19,
   "id": "e230cf58-7daf-4578-8e68-821e7c95ef3a",
   "metadata": {
    "ExecuteTime": {
     "end_time": "2024-06-04T19:56:38.791557Z",
     "start_time": "2024-06-04T19:56:38.765314Z"
    }
   },
   "outputs": [],
   "source": [
    "# for normalize x feature\n",
    "normalizer = Normalization(axis=-1)\n",
    "normalizer.adapt(X_train)\n",
    "# Define a custom callback to stop training when val_accuracy > 95%\n",
    "\n",
    "early_stopping = EarlyStopping(\n",
    "    monitor='val_accuracy',  \n",
    "    min_delta=0.001,\n",
    "    patience=6,\n",
    "    verbose=1,\n",
    "    mode='max'           \n",
    ")\n",
    "\n",
    "class CustomCallback(Callback):\n",
    "    def on_epoch_end(self, epoch, logs=None):\n",
    "        if logs.get('accuracy') > 0.95 and logs.get('val_accuracy') > 0.95:\n",
    "            print(\"\\\\val_accuracy has reached above 90,% so stopping training.\")\n",
    "            self.model.stop_training = True\n",
    "            \n",
    "def model_create():\n",
    "    model = Sequential([\n",
    "        normalizer,  # normalize input\n",
    "        Dense(256,activation='relu'),\n",
    "        Dense(128,activation='relu'),\n",
    "        Dense(64,activation='relu'),\n",
    "        Dense(5, activation='softmax')\n",
    "    ])\n",
    "    model.compile(optimizer='adam',\n",
    "                  loss='categorical_crossentropy',\n",
    "                  metrics=['accuracy'])\n",
    "    return model\n",
    "\n",
    "def adjust_lr(optimizer):\n",
    "    model = model_create()\n",
    "    \n",
    "    lr_schedule = LearningRateScheduler(schedule=lambda epoch: 1e-8 * 10**(epoch / 5))\n",
    "                                        \n",
    "    model.compile(optimizer=optimizer(learning_rate=1e-8),\n",
    "                  loss='binary_crossentropy',\n",
    "                  metrics=['mae'])\n",
    "    history = model.fit(X_train, y_train, \n",
    "                    validation_data=(X_test, y_test),\n",
    "                    epochs=30,\n",
    "                    callbacks=[lr_schedule])\n",
    "    return history"
   ]
  },
  {
   "cell_type": "markdown",
   "id": "694d4272",
   "metadata": {},
   "source": [
    "## K-Fold Validation"
   ]
  },
  {
   "cell_type": "code",
   "execution_count": 20,
   "id": "3b940d92",
   "metadata": {},
   "outputs": [
    {
     "name": "stdout",
     "output_type": "stream",
     "text": [
      "Training fold 1 ...\n",
      "Epoch 1/10\n",
      "\u001b[1m2100/2100\u001b[0m \u001b[32m━━━━━━━━━━━━━━━━━━━━\u001b[0m\u001b[37m\u001b[0m \u001b[1m2s\u001b[0m 815us/step - accuracy: 0.7270 - loss: 0.6843 - val_accuracy: 0.8999 - val_loss: 0.2906\n",
      "Epoch 2/10\n",
      "\u001b[1m2100/2100\u001b[0m \u001b[32m━━━━━━━━━━━━━━━━━━━━\u001b[0m\u001b[37m\u001b[0m \u001b[1m2s\u001b[0m 766us/step - accuracy: 0.9017 - loss: 0.2563 - val_accuracy: 0.9240 - val_loss: 0.1969\n",
      "Epoch 3/10\n",
      "\u001b[1m2100/2100\u001b[0m \u001b[32m━━━━━━━━━━━━━━━━━━━━\u001b[0m\u001b[37m\u001b[0m \u001b[1m2s\u001b[0m 736us/step - accuracy: 0.9116 - loss: 0.2235 - val_accuracy: 0.9281 - val_loss: 0.1959\n",
      "Epoch 4/10\n",
      "\u001b[1m2100/2100\u001b[0m \u001b[32m━━━━━━━━━━━━━━━━━━━━\u001b[0m\u001b[37m\u001b[0m \u001b[1m2s\u001b[0m 755us/step - accuracy: 0.9207 - loss: 0.2015 - val_accuracy: 0.9185 - val_loss: 0.1883\n",
      "Epoch 5/10\n",
      "\u001b[1m2100/2100\u001b[0m \u001b[32m━━━━━━━━━━━━━━━━━━━━\u001b[0m\u001b[37m\u001b[0m \u001b[1m2s\u001b[0m 808us/step - accuracy: 0.9244 - loss: 0.1830 - val_accuracy: 0.9181 - val_loss: 0.2166\n",
      "Epoch 6/10\n",
      "\u001b[1m2100/2100\u001b[0m \u001b[32m━━━━━━━━━━━━━━━━━━━━\u001b[0m\u001b[37m\u001b[0m \u001b[1m2s\u001b[0m 841us/step - accuracy: 0.9319 - loss: 0.1723 - val_accuracy: 0.9246 - val_loss: 0.2103\n",
      "Epoch 7/10\n",
      "\u001b[1m2100/2100\u001b[0m \u001b[32m━━━━━━━━━━━━━━━━━━━━\u001b[0m\u001b[37m\u001b[0m \u001b[1m2s\u001b[0m 757us/step - accuracy: 0.9341 - loss: 0.1609 - val_accuracy: 0.9327 - val_loss: 0.1810\n",
      "Epoch 8/10\n",
      "\u001b[1m2100/2100\u001b[0m \u001b[32m━━━━━━━━━━━━━━━━━━━━\u001b[0m\u001b[37m\u001b[0m \u001b[1m2s\u001b[0m 746us/step - accuracy: 0.9369 - loss: 0.1568 - val_accuracy: 0.9312 - val_loss: 0.1587\n",
      "Epoch 9/10\n",
      "\u001b[1m2100/2100\u001b[0m \u001b[32m━━━━━━━━━━━━━━━━━━━━\u001b[0m\u001b[37m\u001b[0m \u001b[1m2s\u001b[0m 735us/step - accuracy: 0.9374 - loss: 0.1493 - val_accuracy: 0.9440 - val_loss: 0.1534\n",
      "Epoch 10/10\n",
      "\u001b[1m2100/2100\u001b[0m \u001b[32m━━━━━━━━━━━━━━━━━━━━\u001b[0m\u001b[37m\u001b[0m \u001b[1m2s\u001b[0m 739us/step - accuracy: 0.9377 - loss: 0.1495 - val_accuracy: 0.9364 - val_loss: 0.1465\n",
      "Score for fold 1: loss of 0.14732371270656586; compile_metrics of 93.54285597801208%\n",
      "Training fold 2 ...\n",
      "Epoch 1/10\n",
      "\u001b[1m2100/2100\u001b[0m \u001b[32m━━━━━━━━━━━━━━━━━━━━\u001b[0m\u001b[37m\u001b[0m \u001b[1m2s\u001b[0m 791us/step - accuracy: 0.7334 - loss: 0.6687 - val_accuracy: 0.9077 - val_loss: 0.6263\n",
      "Epoch 2/10\n",
      "\u001b[1m2100/2100\u001b[0m \u001b[32m━━━━━━━━━━━━━━━━━━━━\u001b[0m\u001b[37m\u001b[0m \u001b[1m2s\u001b[0m 758us/step - accuracy: 0.9029 - loss: 0.2606 - val_accuracy: 0.9236 - val_loss: 0.3660\n",
      "Epoch 3/10\n",
      "\u001b[1m2100/2100\u001b[0m \u001b[32m━━━━━━━━━━━━━━━━━━━━\u001b[0m\u001b[37m\u001b[0m \u001b[1m2s\u001b[0m 735us/step - accuracy: 0.9154 - loss: 0.2221 - val_accuracy: 0.9261 - val_loss: 0.4031\n",
      "Epoch 4/10\n",
      "\u001b[1m2100/2100\u001b[0m \u001b[32m━━━━━━━━━━━━━━━━━━━━\u001b[0m\u001b[37m\u001b[0m \u001b[1m2s\u001b[0m 728us/step - accuracy: 0.9238 - loss: 0.1922 - val_accuracy: 0.9303 - val_loss: 0.1705\n",
      "Epoch 5/10\n",
      "\u001b[1m2100/2100\u001b[0m \u001b[32m━━━━━━━━━━━━━━━━━━━━\u001b[0m\u001b[37m\u001b[0m \u001b[1m2s\u001b[0m 776us/step - accuracy: 0.9301 - loss: 0.1749 - val_accuracy: 0.9427 - val_loss: 0.6282\n",
      "Epoch 6/10\n",
      "\u001b[1m2100/2100\u001b[0m \u001b[32m━━━━━━━━━━━━━━━━━━━━\u001b[0m\u001b[37m\u001b[0m \u001b[1m2s\u001b[0m 744us/step - accuracy: 0.9346 - loss: 0.1643 - val_accuracy: 0.9308 - val_loss: 0.1611\n",
      "Epoch 7/10\n",
      "\u001b[1m2100/2100\u001b[0m \u001b[32m━━━━━━━━━━━━━━━━━━━━\u001b[0m\u001b[37m\u001b[0m \u001b[1m2s\u001b[0m 728us/step - accuracy: 0.9352 - loss: 0.1540 - val_accuracy: 0.9353 - val_loss: 0.1849\n",
      "Epoch 8/10\n",
      "\u001b[1m2100/2100\u001b[0m \u001b[32m━━━━━━━━━━━━━━━━━━━━\u001b[0m\u001b[37m\u001b[0m \u001b[1m2s\u001b[0m 738us/step - accuracy: 0.9384 - loss: 0.1503 - val_accuracy: 0.9381 - val_loss: 0.1477\n",
      "Epoch 9/10\n",
      "\u001b[1m2100/2100\u001b[0m \u001b[32m━━━━━━━━━━━━━━━━━━━━\u001b[0m\u001b[37m\u001b[0m \u001b[1m2s\u001b[0m 728us/step - accuracy: 0.9386 - loss: 0.1447 - val_accuracy: 0.9393 - val_loss: 0.2705\n",
      "Epoch 10/10\n",
      "\u001b[1m2100/2100\u001b[0m \u001b[32m━━━━━━━━━━━━━━━━━━━━\u001b[0m\u001b[37m\u001b[0m \u001b[1m2s\u001b[0m 801us/step - accuracy: 0.9409 - loss: 0.1437 - val_accuracy: 0.9379 - val_loss: 1.0489\n",
      "Score for fold 2: loss of 0.14477768540382385; compile_metrics of 93.99047493934631%\n",
      "Training fold 3 ...\n",
      "Epoch 1/10\n",
      "\u001b[1m2100/2100\u001b[0m \u001b[32m━━━━━━━━━━━━━━━━━━━━\u001b[0m\u001b[37m\u001b[0m \u001b[1m2s\u001b[0m 754us/step - accuracy: 0.7270 - loss: 0.7903 - val_accuracy: 0.8907 - val_loss: 0.2743\n",
      "Epoch 2/10\n",
      "\u001b[1m2100/2100\u001b[0m \u001b[32m━━━━━━━━━━━━━━━━━━━━\u001b[0m\u001b[37m\u001b[0m \u001b[1m2s\u001b[0m 812us/step - accuracy: 0.8931 - loss: 0.2884 - val_accuracy: 0.9019 - val_loss: 0.2437\n",
      "Epoch 3/10\n",
      "\u001b[1m2100/2100\u001b[0m \u001b[32m━━━━━━━━━━━━━━━━━━━━\u001b[0m\u001b[37m\u001b[0m \u001b[1m2s\u001b[0m 744us/step - accuracy: 0.9137 - loss: 0.2442 - val_accuracy: 0.9089 - val_loss: 0.2289\n",
      "Epoch 4/10\n",
      "\u001b[1m2100/2100\u001b[0m \u001b[32m━━━━━━━━━━━━━━━━━━━━\u001b[0m\u001b[37m\u001b[0m \u001b[1m2s\u001b[0m 716us/step - accuracy: 0.9209 - loss: 0.2109 - val_accuracy: 0.9249 - val_loss: 0.1858\n",
      "Epoch 5/10\n",
      "\u001b[1m2100/2100\u001b[0m \u001b[32m━━━━━━━━━━━━━━━━━━━━\u001b[0m\u001b[37m\u001b[0m \u001b[1m2s\u001b[0m 713us/step - accuracy: 0.9271 - loss: 0.1795 - val_accuracy: 0.9252 - val_loss: 0.1864\n",
      "Epoch 6/10\n",
      "\u001b[1m2100/2100\u001b[0m \u001b[32m━━━━━━━━━━━━━━━━━━━━\u001b[0m\u001b[37m\u001b[0m \u001b[1m2s\u001b[0m 758us/step - accuracy: 0.9303 - loss: 0.1824 - val_accuracy: 0.9317 - val_loss: 0.1667\n",
      "Epoch 7/10\n",
      "\u001b[1m2100/2100\u001b[0m \u001b[32m━━━━━━━━━━━━━━━━━━━━\u001b[0m\u001b[37m\u001b[0m \u001b[1m2s\u001b[0m 766us/step - accuracy: 0.9342 - loss: 0.1611 - val_accuracy: 0.9224 - val_loss: 0.1940\n",
      "Epoch 8/10\n",
      "\u001b[1m2100/2100\u001b[0m \u001b[32m━━━━━━━━━━━━━━━━━━━━\u001b[0m\u001b[37m\u001b[0m \u001b[1m2s\u001b[0m 757us/step - accuracy: 0.9347 - loss: 0.1558 - val_accuracy: 0.9313 - val_loss: 0.1623\n",
      "Epoch 9/10\n",
      "\u001b[1m2100/2100\u001b[0m \u001b[32m━━━━━━━━━━━━━━━━━━━━\u001b[0m\u001b[37m\u001b[0m \u001b[1m2s\u001b[0m 752us/step - accuracy: 0.9380 - loss: 0.1494 - val_accuracy: 0.9389 - val_loss: 0.1436\n",
      "Epoch 10/10\n",
      "\u001b[1m2100/2100\u001b[0m \u001b[32m━━━━━━━━━━━━━━━━━━━━\u001b[0m\u001b[37m\u001b[0m \u001b[1m2s\u001b[0m 756us/step - accuracy: 0.9374 - loss: 0.1463 - val_accuracy: 0.9358 - val_loss: 0.1549\n",
      "Score for fold 3: loss of 0.15848925709724426; compile_metrics of 93.44761967658997%\n",
      "Training fold 4 ...\n",
      "Epoch 1/10\n",
      "\u001b[1m2100/2100\u001b[0m \u001b[32m━━━━━━━━━━━━━━━━━━━━\u001b[0m\u001b[37m\u001b[0m \u001b[1m2s\u001b[0m 778us/step - accuracy: 0.7222 - loss: 0.7831 - val_accuracy: 0.9046 - val_loss: 0.2574\n",
      "Epoch 2/10\n",
      "\u001b[1m2100/2100\u001b[0m \u001b[32m━━━━━━━━━━━━━━━━━━━━\u001b[0m\u001b[37m\u001b[0m \u001b[1m2s\u001b[0m 786us/step - accuracy: 0.8983 - loss: 0.2665 - val_accuracy: 0.9099 - val_loss: 0.2367\n",
      "Epoch 3/10\n",
      "\u001b[1m2100/2100\u001b[0m \u001b[32m━━━━━━━━━━━━━━━━━━━━\u001b[0m\u001b[37m\u001b[0m \u001b[1m2s\u001b[0m 735us/step - accuracy: 0.9151 - loss: 0.2160 - val_accuracy: 0.9152 - val_loss: 0.2388\n",
      "Epoch 4/10\n",
      "\u001b[1m2100/2100\u001b[0m \u001b[32m━━━━━━━━━━━━━━━━━━━━\u001b[0m\u001b[37m\u001b[0m \u001b[1m2s\u001b[0m 729us/step - accuracy: 0.9242 - loss: 0.1890 - val_accuracy: 0.9227 - val_loss: 0.2122\n",
      "Epoch 5/10\n",
      "\u001b[1m2100/2100\u001b[0m \u001b[32m━━━━━━━━━━━━━━━━━━━━\u001b[0m\u001b[37m\u001b[0m \u001b[1m2s\u001b[0m 713us/step - accuracy: 0.9271 - loss: 0.1795 - val_accuracy: 0.9367 - val_loss: 0.1898\n",
      "Epoch 6/10\n",
      "\u001b[1m2100/2100\u001b[0m \u001b[32m━━━━━━━━━━━━━━━━━━━━\u001b[0m\u001b[37m\u001b[0m \u001b[1m2s\u001b[0m 729us/step - accuracy: 0.9299 - loss: 0.2363 - val_accuracy: 0.9358 - val_loss: 0.2013\n",
      "Epoch 7/10\n",
      "\u001b[1m2100/2100\u001b[0m \u001b[32m━━━━━━━━━━━━━━━━━━━━\u001b[0m\u001b[37m\u001b[0m \u001b[1m2s\u001b[0m 732us/step - accuracy: 0.9335 - loss: 0.1635 - val_accuracy: 0.9389 - val_loss: 0.1809\n",
      "Epoch 8/10\n",
      "\u001b[1m2100/2100\u001b[0m \u001b[32m━━━━━━━━━━━━━━━━━━━━\u001b[0m\u001b[37m\u001b[0m \u001b[1m2s\u001b[0m 782us/step - accuracy: 0.9359 - loss: 0.1522 - val_accuracy: 0.9413 - val_loss: 0.1633\n",
      "Epoch 9/10\n",
      "\u001b[1m2100/2100\u001b[0m \u001b[32m━━━━━━━━━━━━━━━━━━━━\u001b[0m\u001b[37m\u001b[0m \u001b[1m2s\u001b[0m 728us/step - accuracy: 0.9345 - loss: 0.1600 - val_accuracy: 0.9254 - val_loss: 0.1995\n",
      "Epoch 10/10\n",
      "\u001b[1m2100/2100\u001b[0m \u001b[32m━━━━━━━━━━━━━━━━━━━━\u001b[0m\u001b[37m\u001b[0m \u001b[1m2s\u001b[0m 721us/step - accuracy: 0.9406 - loss: 0.1478 - val_accuracy: 0.9462 - val_loss: 0.1480\n",
      "Score for fold 4: loss of 0.1443779021501541; compile_metrics of 94.49047446250916%\n",
      "Training fold 5 ...\n",
      "Epoch 1/10\n",
      "\u001b[1m2100/2100\u001b[0m \u001b[32m━━━━━━━━━━━━━━━━━━━━\u001b[0m\u001b[37m\u001b[0m \u001b[1m2s\u001b[0m 859us/step - accuracy: 0.7292 - loss: 0.7632 - val_accuracy: 0.8915 - val_loss: 0.2947\n",
      "Epoch 2/10\n",
      "\u001b[1m2100/2100\u001b[0m \u001b[32m━━━━━━━━━━━━━━━━━━━━\u001b[0m\u001b[37m\u001b[0m \u001b[1m2s\u001b[0m 741us/step - accuracy: 0.9021 - loss: 0.2570 - val_accuracy: 0.9074 - val_loss: 0.2660\n",
      "Epoch 3/10\n",
      "\u001b[1m2100/2100\u001b[0m \u001b[32m━━━━━━━━━━━━━━━━━━━━\u001b[0m\u001b[37m\u001b[0m \u001b[1m2s\u001b[0m 799us/step - accuracy: 0.9133 - loss: 0.2228 - val_accuracy: 0.9237 - val_loss: 0.2146\n",
      "Epoch 4/10\n",
      "\u001b[1m2100/2100\u001b[0m \u001b[32m━━━━━━━━━━━━━━━━━━━━\u001b[0m\u001b[37m\u001b[0m \u001b[1m2s\u001b[0m 754us/step - accuracy: 0.9184 - loss: 0.2284 - val_accuracy: 0.9149 - val_loss: 0.2180\n",
      "Epoch 5/10\n",
      "\u001b[1m2100/2100\u001b[0m \u001b[32m━━━━━━━━━━━━━━━━━━━━\u001b[0m\u001b[37m\u001b[0m \u001b[1m2s\u001b[0m 730us/step - accuracy: 0.9264 - loss: 0.1846 - val_accuracy: 0.9250 - val_loss: 0.2019\n",
      "Epoch 6/10\n",
      "\u001b[1m2100/2100\u001b[0m \u001b[32m━━━━━━━━━━━━━━━━━━━━\u001b[0m\u001b[37m\u001b[0m \u001b[1m2s\u001b[0m 765us/step - accuracy: 0.9309 - loss: 0.1697 - val_accuracy: 0.9366 - val_loss: 0.1756\n",
      "Epoch 7/10\n",
      "\u001b[1m2100/2100\u001b[0m \u001b[32m━━━━━━━━━━━━━━━━━━━━\u001b[0m\u001b[37m\u001b[0m \u001b[1m2s\u001b[0m 739us/step - accuracy: 0.9338 - loss: 0.1589 - val_accuracy: 0.9076 - val_loss: 0.2285\n",
      "Epoch 8/10\n",
      "\u001b[1m2100/2100\u001b[0m \u001b[32m━━━━━━━━━━━━━━━━━━━━\u001b[0m\u001b[37m\u001b[0m \u001b[1m2s\u001b[0m 807us/step - accuracy: 0.9360 - loss: 0.1539 - val_accuracy: 0.9155 - val_loss: 0.2248\n",
      "Epoch 9/10\n",
      "\u001b[1m2100/2100\u001b[0m \u001b[32m━━━━━━━━━━━━━━━━━━━━\u001b[0m\u001b[37m\u001b[0m \u001b[1m2s\u001b[0m 786us/step - accuracy: 0.9379 - loss: 0.1513 - val_accuracy: 0.9304 - val_loss: 0.1828\n",
      "Epoch 10/10\n",
      "\u001b[1m2100/2100\u001b[0m \u001b[32m━━━━━━━━━━━━━━━━━━━━\u001b[0m\u001b[37m\u001b[0m \u001b[1m2s\u001b[0m 771us/step - accuracy: 0.9420 - loss: 0.1421 - val_accuracy: 0.9213 - val_loss: 0.1987\n",
      "Score for fold 5: loss of 0.17402823269367218; compile_metrics of 92.32380986213684%\n",
      "Average accuracy: 93.55904698371887%\n"
     ]
    }
   ],
   "source": [
    "k = 5\n",
    "kf = KFold(n_splits=k, shuffle=True, random_state=42)\n",
    "fold_no = 1\n",
    "results = []\n",
    "\n",
    "for train_index, test_index in kf.split(X_train):\n",
    "    X_train_2, X_test_2 = X_train[train_index], X_train[test_index]\n",
    "    y_train_2, y_test_2 = y_train[train_index], y_train[test_index]\n",
    "\n",
    "    model = model_create()\n",
    "\n",
    "    print(f'Training fold {fold_no} ...')\n",
    "    history = model.fit(X_train_2, y_train_2, epochs=10, batch_size=32, validation_data=(X_test_2, y_test_2))\n",
    "    \n",
    "    scores = model.evaluate(X_test, y_test, verbose=0)\n",
    "    print(f'Score for fold {fold_no}: {model.metrics_names[0]} of {scores[0]}; {model.metrics_names[1]} of {scores[1]*100}%')\n",
    "    results.append(scores)\n",
    "\n",
    "    fold_no += 1\n",
    "\n",
    "# Display average results\n",
    "average_accuracy = np.mean([result[1] for result in results])\n",
    "print(f'Average accuracy: {average_accuracy*100}%')"
   ]
  },
  {
   "cell_type": "markdown",
   "id": "96d51c7f",
   "metadata": {},
   "source": [
    "## Training Model"
   ]
  },
  {
   "cell_type": "code",
   "execution_count": 21,
   "id": "b2ece392f2ea1b68",
   "metadata": {
    "ExecuteTime": {
     "end_time": "2024-06-04T19:58:38.780590Z",
     "start_time": "2024-06-04T19:58:38.765589Z"
    }
   },
   "outputs": [],
   "source": [
    "def train_model(callback, optimizer):\n",
    "    model = model_create()\n",
    "    model.compile(optimizer=optimizer,\n",
    "                  loss='categorical_crossentropy',\n",
    "                  metrics=['accuracy', 'mae'])\n",
    "    \n",
    "    # Train the model with the callback\n",
    "    history = model.fit(X_train, y_train, \n",
    "                        validation_data=(X_test, y_test),\n",
    "                        epochs=200,\n",
    "                        callbacks=[callback])\n",
    "    \n",
    "    score = model.evaluate(X_test, y_test, verbose=0)\n",
    "    print(f'Test loss: {score[0]} / Test accuracy: {score[1]}')\n",
    "    return history, model"
   ]
  },
  {
   "cell_type": "code",
   "execution_count": 22,
   "id": "31a3e403e64f40a7",
   "metadata": {
    "ExecuteTime": {
     "end_time": "2024-06-04T19:57:41.490973Z",
     "start_time": "2024-06-04T19:56:41.550914Z"
    }
   },
   "outputs": [
    {
     "name": "stdout",
     "output_type": "stream",
     "text": [
      "Epoch 1/30\n",
      "\u001b[1m2625/2625\u001b[0m \u001b[32m━━━━━━━━━━━━━━━━━━━━\u001b[0m\u001b[37m\u001b[0m \u001b[1m3s\u001b[0m 776us/step - loss: 0.6897 - mae: 0.3197 - val_loss: 0.6969 - val_mae: 0.3197 - learning_rate: 1.0000e-08\n",
      "Epoch 2/30\n",
      "\u001b[1m2625/2625\u001b[0m \u001b[32m━━━━━━━━━━━━━━━━━━━━\u001b[0m\u001b[37m\u001b[0m \u001b[1m2s\u001b[0m 787us/step - loss: 0.6896 - mae: 0.3197 - val_loss: 0.6966 - val_mae: 0.3197 - learning_rate: 1.5849e-08\n",
      "Epoch 3/30\n",
      "\u001b[1m2625/2625\u001b[0m \u001b[32m━━━━━━━━━━━━━━━━━━━━\u001b[0m\u001b[37m\u001b[0m \u001b[1m2s\u001b[0m 771us/step - loss: 0.6893 - mae: 0.3197 - val_loss: 0.6962 - val_mae: 0.3196 - learning_rate: 2.5119e-08\n",
      "Epoch 4/30\n",
      "\u001b[1m2625/2625\u001b[0m \u001b[32m━━━━━━━━━━━━━━━━━━━━\u001b[0m\u001b[37m\u001b[0m \u001b[1m2s\u001b[0m 734us/step - loss: 0.6887 - mae: 0.3196 - val_loss: 0.6955 - val_mae: 0.3196 - learning_rate: 3.9811e-08\n",
      "Epoch 5/30\n",
      "\u001b[1m2625/2625\u001b[0m \u001b[32m━━━━━━━━━━━━━━━━━━━━\u001b[0m\u001b[37m\u001b[0m \u001b[1m2s\u001b[0m 781us/step - loss: 0.6883 - mae: 0.3196 - val_loss: 0.6944 - val_mae: 0.3196 - learning_rate: 6.3096e-08\n",
      "Epoch 6/30\n",
      "\u001b[1m2625/2625\u001b[0m \u001b[32m━━━━━━━━━━━━━━━━━━━━\u001b[0m\u001b[37m\u001b[0m \u001b[1m2s\u001b[0m 798us/step - loss: 0.6871 - mae: 0.3195 - val_loss: 0.6927 - val_mae: 0.3195 - learning_rate: 1.0000e-07\n",
      "Epoch 7/30\n",
      "\u001b[1m2625/2625\u001b[0m \u001b[32m━━━━━━━━━━━━━━━━━━━━\u001b[0m\u001b[37m\u001b[0m \u001b[1m2s\u001b[0m 769us/step - loss: 0.6853 - mae: 0.3194 - val_loss: 0.6899 - val_mae: 0.3194 - learning_rate: 1.5849e-07\n",
      "Epoch 8/30\n",
      "\u001b[1m2625/2625\u001b[0m \u001b[32m━━━━━━━━━━━━━━━━━━━━\u001b[0m\u001b[37m\u001b[0m \u001b[1m2s\u001b[0m 745us/step - loss: 0.6824 - mae: 0.3194 - val_loss: 0.6853 - val_mae: 0.3192 - learning_rate: 2.5119e-07\n",
      "Epoch 9/30\n",
      "\u001b[1m2625/2625\u001b[0m \u001b[32m━━━━━━━━━━━━━━━━━━━━\u001b[0m\u001b[37m\u001b[0m \u001b[1m2s\u001b[0m 733us/step - loss: 0.6778 - mae: 0.3191 - val_loss: 0.6790 - val_mae: 0.3189 - learning_rate: 3.9811e-07\n",
      "Epoch 10/30\n",
      "\u001b[1m2625/2625\u001b[0m \u001b[32m━━━━━━━━━━━━━━━━━━━━\u001b[0m\u001b[37m\u001b[0m \u001b[1m2s\u001b[0m 733us/step - loss: 0.6713 - mae: 0.3188 - val_loss: 0.6709 - val_mae: 0.3184 - learning_rate: 6.3096e-07\n",
      "Epoch 11/30\n",
      "\u001b[1m2625/2625\u001b[0m \u001b[32m━━━━━━━━━━━━━━━━━━━━\u001b[0m\u001b[37m\u001b[0m \u001b[1m2s\u001b[0m 755us/step - loss: 0.6595 - mae: 0.3181 - val_loss: 0.6554 - val_mae: 0.3173 - learning_rate: 1.0000e-06\n",
      "Epoch 12/30\n",
      "\u001b[1m2625/2625\u001b[0m \u001b[32m━━━━━━━━━━━━━━━━━━━━\u001b[0m\u001b[37m\u001b[0m \u001b[1m2s\u001b[0m 741us/step - loss: 0.6382 - mae: 0.3167 - val_loss: 0.6271 - val_mae: 0.3152 - learning_rate: 1.5849e-06\n",
      "Epoch 13/30\n",
      "\u001b[1m2625/2625\u001b[0m \u001b[32m━━━━━━━━━━━━━━━━━━━━\u001b[0m\u001b[37m\u001b[0m \u001b[1m2s\u001b[0m 739us/step - loss: 0.5968 - mae: 0.3141 - val_loss: 0.5763 - val_mae: 0.3104 - learning_rate: 2.5119e-06\n",
      "Epoch 14/30\n",
      "\u001b[1m2625/2625\u001b[0m \u001b[32m━━━━━━━━━━━━━━━━━━━━\u001b[0m\u001b[37m\u001b[0m \u001b[1m2s\u001b[0m 784us/step - loss: 0.5269 - mae: 0.3079 - val_loss: 0.5248 - val_mae: 0.2994 - learning_rate: 3.9811e-06\n",
      "Epoch 15/30\n",
      "\u001b[1m2625/2625\u001b[0m \u001b[32m━━━━━━━━━━━━━━━━━━━━\u001b[0m\u001b[37m\u001b[0m \u001b[1m2s\u001b[0m 826us/step - loss: 0.4633 - mae: 0.2949 - val_loss: 0.4900 - val_mae: 0.2820 - learning_rate: 6.3096e-06\n",
      "Epoch 16/30\n",
      "\u001b[1m2625/2625\u001b[0m \u001b[32m━━━━━━━━━━━━━━━━━━━━\u001b[0m\u001b[37m\u001b[0m \u001b[1m2s\u001b[0m 768us/step - loss: 0.4309 - mae: 0.2777 - val_loss: 0.4511 - val_mae: 0.2656 - learning_rate: 1.0000e-05\n",
      "Epoch 17/30\n",
      "\u001b[1m2625/2625\u001b[0m \u001b[32m━━━━━━━━━━━━━━━━━━━━\u001b[0m\u001b[37m\u001b[0m \u001b[1m2s\u001b[0m 766us/step - loss: 0.4023 - mae: 0.2613 - val_loss: 0.4149 - val_mae: 0.2519 - learning_rate: 1.5849e-05\n",
      "Epoch 18/30\n",
      "\u001b[1m2625/2625\u001b[0m \u001b[32m━━━━━━━━━━━━━━━━━━━━\u001b[0m\u001b[37m\u001b[0m \u001b[1m2s\u001b[0m 768us/step - loss: 0.3853 - mae: 0.2482 - val_loss: 0.3799 - val_mae: 0.2376 - learning_rate: 2.5119e-05\n",
      "Epoch 19/30\n",
      "\u001b[1m2625/2625\u001b[0m \u001b[32m━━━━━━━━━━━━━━━━━━━━\u001b[0m\u001b[37m\u001b[0m \u001b[1m2s\u001b[0m 773us/step - loss: 0.3605 - mae: 0.2305 - val_loss: 0.3187 - val_mae: 0.1976 - learning_rate: 3.9811e-05\n",
      "Epoch 20/30\n",
      "\u001b[1m2625/2625\u001b[0m \u001b[32m━━━━━━━━━━━━━━━━━━━━\u001b[0m\u001b[37m\u001b[0m \u001b[1m2s\u001b[0m 767us/step - loss: 0.2968 - mae: 0.1777 - val_loss: 0.2474 - val_mae: 0.1363 - learning_rate: 6.3096e-05\n",
      "Epoch 21/30\n",
      "\u001b[1m2625/2625\u001b[0m \u001b[32m━━━━━━━━━━━━━━━━━━━━\u001b[0m\u001b[37m\u001b[0m \u001b[1m2s\u001b[0m 798us/step - loss: 0.2300 - mae: 0.1250 - val_loss: 0.2066 - val_mae: 0.1002 - learning_rate: 1.0000e-04\n",
      "Epoch 22/30\n",
      "\u001b[1m2625/2625\u001b[0m \u001b[32m━━━━━━━━━━━━━━━━━━━━\u001b[0m\u001b[37m\u001b[0m \u001b[1m2s\u001b[0m 802us/step - loss: 0.1851 - mae: 0.0949 - val_loss: 0.1573 - val_mae: 0.0777 - learning_rate: 1.5849e-04\n",
      "Epoch 23/30\n",
      "\u001b[1m2625/2625\u001b[0m \u001b[32m━━━━━━━━━━━━━━━━━━━━\u001b[0m\u001b[37m\u001b[0m \u001b[1m2s\u001b[0m 804us/step - loss: 0.1521 - mae: 0.0750 - val_loss: 0.1280 - val_mae: 0.0609 - learning_rate: 2.5119e-04\n",
      "Epoch 24/30\n",
      "\u001b[1m2625/2625\u001b[0m \u001b[32m━━━━━━━━━━━━━━━━━━━━\u001b[0m\u001b[37m\u001b[0m \u001b[1m2s\u001b[0m 785us/step - loss: 0.1181 - mae: 0.0573 - val_loss: 0.0982 - val_mae: 0.0438 - learning_rate: 3.9811e-04\n",
      "Epoch 25/30\n",
      "\u001b[1m2625/2625\u001b[0m \u001b[32m━━━━━━━━━━━━━━━━━━━━\u001b[0m\u001b[37m\u001b[0m \u001b[1m2s\u001b[0m 758us/step - loss: 0.0991 - mae: 0.0454 - val_loss: 0.0811 - val_mae: 0.0381 - learning_rate: 6.3096e-04\n",
      "Epoch 26/30\n",
      "\u001b[1m2625/2625\u001b[0m \u001b[32m━━━━━━━━━━━━━━━━━━━━\u001b[0m\u001b[37m\u001b[0m \u001b[1m2s\u001b[0m 826us/step - loss: 0.0882 - mae: 0.0401 - val_loss: 0.0941 - val_mae: 0.0361 - learning_rate: 0.0010\n",
      "Epoch 27/30\n",
      "\u001b[1m2625/2625\u001b[0m \u001b[32m━━━━━━━━━━━━━━━━━━━━\u001b[0m\u001b[37m\u001b[0m \u001b[1m2s\u001b[0m 762us/step - loss: 0.0833 - mae: 0.0378 - val_loss: 0.0749 - val_mae: 0.0329 - learning_rate: 0.0016\n",
      "Epoch 28/30\n",
      "\u001b[1m2625/2625\u001b[0m \u001b[32m━━━━━━━━━━━━━━━━━━━━\u001b[0m\u001b[37m\u001b[0m \u001b[1m4s\u001b[0m 2ms/step - loss: 0.0850 - mae: 0.0384 - val_loss: 0.0844 - val_mae: 0.0337 - learning_rate: 0.0025\n",
      "Epoch 29/30\n",
      "\u001b[1m2625/2625\u001b[0m \u001b[32m━━━━━━━━━━━━━━━━━━━━\u001b[0m\u001b[37m\u001b[0m \u001b[1m10s\u001b[0m 4ms/step - loss: 0.0903 - mae: 0.0400 - val_loss: 0.1612 - val_mae: 0.0512 - learning_rate: 0.0040\n",
      "Epoch 30/30\n",
      "\u001b[1m2625/2625\u001b[0m \u001b[32m━━━━━━━━━━━━━━━━━━━━\u001b[0m\u001b[37m\u001b[0m \u001b[1m12s\u001b[0m 5ms/step - loss: 0.0944 - mae: 0.0416 - val_loss: 0.0912 - val_mae: 0.0417 - learning_rate: 0.0063\n"
     ]
    }
   ],
   "source": [
    "adjust_learning_rate = adjust_lr(Adam)"
   ]
  },
  {
   "cell_type": "code",
   "execution_count": 23,
   "id": "82b08b45acf0547c",
   "metadata": {
    "ExecuteTime": {
     "end_time": "2024-06-04T19:58:38.764589Z",
     "start_time": "2024-06-04T19:57:41.491973Z"
    }
   },
   "outputs": [
    {
     "name": "stdout",
     "output_type": "stream",
     "text": [
      "Epoch 1/30\n",
      "\u001b[1m2625/2625\u001b[0m \u001b[32m━━━━━━━━━━━━━━━━━━━━\u001b[0m\u001b[37m\u001b[0m \u001b[1m14s\u001b[0m 5ms/step - loss: 0.6965 - mae: 0.3196 - val_loss: 0.7024 - val_mae: 0.3196 - learning_rate: 1.0000e-08\n",
      "Epoch 2/30\n",
      "\u001b[1m2625/2625\u001b[0m \u001b[32m━━━━━━━━━━━━━━━━━━━━\u001b[0m\u001b[37m\u001b[0m \u001b[1m6s\u001b[0m 2ms/step - loss: 0.6967 - mae: 0.3196 - val_loss: 0.7021 - val_mae: 0.3196 - learning_rate: 1.5849e-08\n",
      "Epoch 3/30\n",
      "\u001b[1m2625/2625\u001b[0m \u001b[32m━━━━━━━━━━━━━━━━━━━━\u001b[0m\u001b[37m\u001b[0m \u001b[1m2s\u001b[0m 758us/step - loss: 0.6959 - mae: 0.3196 - val_loss: 0.7017 - val_mae: 0.3196 - learning_rate: 2.5119e-08\n",
      "Epoch 4/30\n",
      "\u001b[1m2625/2625\u001b[0m \u001b[32m━━━━━━━━━━━━━━━━━━━━\u001b[0m\u001b[37m\u001b[0m \u001b[1m2s\u001b[0m 726us/step - loss: 0.6959 - mae: 0.3196 - val_loss: 0.7009 - val_mae: 0.3196 - learning_rate: 3.9811e-08\n",
      "Epoch 5/30\n",
      "\u001b[1m2625/2625\u001b[0m \u001b[32m━━━━━━━━━━━━━━━━━━━━\u001b[0m\u001b[37m\u001b[0m \u001b[1m2s\u001b[0m 732us/step - loss: 0.6947 - mae: 0.3195 - val_loss: 0.6997 - val_mae: 0.3195 - learning_rate: 6.3096e-08\n",
      "Epoch 6/30\n",
      "\u001b[1m2625/2625\u001b[0m \u001b[32m━━━━━━━━━━━━━━━━━━━━\u001b[0m\u001b[37m\u001b[0m \u001b[1m2s\u001b[0m 745us/step - loss: 0.6938 - mae: 0.3194 - val_loss: 0.6978 - val_mae: 0.3194 - learning_rate: 1.0000e-07\n",
      "Epoch 7/30\n",
      "\u001b[1m2625/2625\u001b[0m \u001b[32m━━━━━━━━━━━━━━━━━━━━\u001b[0m\u001b[37m\u001b[0m \u001b[1m2s\u001b[0m 730us/step - loss: 0.6924 - mae: 0.3194 - val_loss: 0.6947 - val_mae: 0.3192 - learning_rate: 1.5849e-07\n",
      "Epoch 8/30\n",
      "\u001b[1m2625/2625\u001b[0m \u001b[32m━━━━━━━━━━━━━━━━━━━━\u001b[0m\u001b[37m\u001b[0m \u001b[1m2s\u001b[0m 704us/step - loss: 0.6882 - mae: 0.3191 - val_loss: 0.6904 - val_mae: 0.3190 - learning_rate: 2.5119e-07\n",
      "Epoch 9/30\n",
      "\u001b[1m2625/2625\u001b[0m \u001b[32m━━━━━━━━━━━━━━━━━━━━\u001b[0m\u001b[37m\u001b[0m \u001b[1m2s\u001b[0m 707us/step - loss: 0.6835 - mae: 0.3188 - val_loss: 0.6843 - val_mae: 0.3185 - learning_rate: 3.9811e-07\n",
      "Epoch 10/30\n",
      "\u001b[1m2625/2625\u001b[0m \u001b[32m━━━━━━━━━━━━━━━━━━━━\u001b[0m\u001b[37m\u001b[0m \u001b[1m2s\u001b[0m 705us/step - loss: 0.6756 - mae: 0.3183 - val_loss: 0.6753 - val_mae: 0.3179 - learning_rate: 6.3096e-07\n",
      "Epoch 11/30\n",
      "\u001b[1m2625/2625\u001b[0m \u001b[32m━━━━━━━━━━━━━━━━━━━━\u001b[0m\u001b[37m\u001b[0m \u001b[1m2s\u001b[0m 710us/step - loss: 0.6644 - mae: 0.3177 - val_loss: 0.6606 - val_mae: 0.3169 - learning_rate: 1.0000e-06\n",
      "Epoch 12/30\n",
      "\u001b[1m2625/2625\u001b[0m \u001b[32m━━━━━━━━━━━━━━━━━━━━\u001b[0m\u001b[37m\u001b[0m \u001b[1m2s\u001b[0m 694us/step - loss: 0.6457 - mae: 0.3164 - val_loss: 0.6356 - val_mae: 0.3150 - learning_rate: 1.5849e-06\n",
      "Epoch 13/30\n",
      "\u001b[1m2625/2625\u001b[0m \u001b[32m━━━━━━━━━━━━━━━━━━━━\u001b[0m\u001b[37m\u001b[0m \u001b[1m2s\u001b[0m 713us/step - loss: 0.6098 - mae: 0.3140 - val_loss: 0.5907 - val_mae: 0.3111 - learning_rate: 2.5119e-06\n",
      "Epoch 14/30\n",
      "\u001b[1m2625/2625\u001b[0m \u001b[32m━━━━━━━━━━━━━━━━━━━━\u001b[0m\u001b[37m\u001b[0m \u001b[1m2s\u001b[0m 706us/step - loss: 0.5465 - mae: 0.3091 - val_loss: 0.5300 - val_mae: 0.3013 - learning_rate: 3.9811e-06\n",
      "Epoch 15/30\n",
      "\u001b[1m2625/2625\u001b[0m \u001b[32m━━━━━━━━━━━━━━━━━━━━\u001b[0m\u001b[37m\u001b[0m \u001b[1m2s\u001b[0m 735us/step - loss: 0.4682 - mae: 0.2957 - val_loss: 0.4967 - val_mae: 0.2809 - learning_rate: 6.3096e-06\n",
      "Epoch 16/30\n",
      "\u001b[1m2625/2625\u001b[0m \u001b[32m━━━━━━━━━━━━━━━━━━━━\u001b[0m\u001b[37m\u001b[0m \u001b[1m2s\u001b[0m 709us/step - loss: 0.4292 - mae: 0.2761 - val_loss: 0.4696 - val_mae: 0.2651 - learning_rate: 1.0000e-05\n",
      "Epoch 17/30\n",
      "\u001b[1m2625/2625\u001b[0m \u001b[32m━━━━━━━━━━━━━━━━━━━━\u001b[0m\u001b[37m\u001b[0m \u001b[1m2s\u001b[0m 706us/step - loss: 0.4064 - mae: 0.2617 - val_loss: 0.4459 - val_mae: 0.2528 - learning_rate: 1.5849e-05\n",
      "Epoch 18/30\n",
      "\u001b[1m2625/2625\u001b[0m \u001b[32m━━━━━━━━━━━━━━━━━━━━\u001b[0m\u001b[37m\u001b[0m \u001b[1m2s\u001b[0m 734us/step - loss: 0.3914 - mae: 0.2500 - val_loss: 0.4210 - val_mae: 0.2393 - learning_rate: 2.5119e-05\n",
      "Epoch 19/30\n",
      "\u001b[1m2625/2625\u001b[0m \u001b[32m━━━━━━━━━━━━━━━━━━━━\u001b[0m\u001b[37m\u001b[0m \u001b[1m2s\u001b[0m 754us/step - loss: 0.3681 - mae: 0.2341 - val_loss: 0.3794 - val_mae: 0.2072 - learning_rate: 3.9811e-05\n",
      "Epoch 20/30\n",
      "\u001b[1m2625/2625\u001b[0m \u001b[32m━━━━━━━━━━━━━━━━━━━━\u001b[0m\u001b[37m\u001b[0m \u001b[1m2s\u001b[0m 784us/step - loss: 0.3066 - mae: 0.1869 - val_loss: 0.2969 - val_mae: 0.1324 - learning_rate: 6.3096e-05\n",
      "Epoch 21/30\n",
      "\u001b[1m2625/2625\u001b[0m \u001b[32m━━━━━━━━━━━━━━━━━━━━\u001b[0m\u001b[37m\u001b[0m \u001b[1m2s\u001b[0m 720us/step - loss: 0.2265 - mae: 0.1173 - val_loss: 0.2219 - val_mae: 0.0883 - learning_rate: 1.0000e-04\n",
      "Epoch 22/30\n",
      "\u001b[1m2625/2625\u001b[0m \u001b[32m━━━━━━━━━━━━━━━━━━━━\u001b[0m\u001b[37m\u001b[0m \u001b[1m2s\u001b[0m 736us/step - loss: 0.1757 - mae: 0.0819 - val_loss: 0.1608 - val_mae: 0.0667 - learning_rate: 1.5849e-04\n",
      "Epoch 23/30\n",
      "\u001b[1m2625/2625\u001b[0m \u001b[32m━━━━━━━━━━━━━━━━━━━━\u001b[0m\u001b[37m\u001b[0m \u001b[1m2s\u001b[0m 838us/step - loss: 0.1438 - mae: 0.0622 - val_loss: 0.1142 - val_mae: 0.0504 - learning_rate: 2.5119e-04\n",
      "Epoch 24/30\n",
      "\u001b[1m2625/2625\u001b[0m \u001b[32m━━━━━━━━━━━━━━━━━━━━\u001b[0m\u001b[37m\u001b[0m \u001b[1m2s\u001b[0m 780us/step - loss: 0.1112 - mae: 0.0504 - val_loss: 0.1001 - val_mae: 0.0459 - learning_rate: 3.9811e-04\n",
      "Epoch 25/30\n",
      "\u001b[1m2625/2625\u001b[0m \u001b[32m━━━━━━━━━━━━━━━━━━━━\u001b[0m\u001b[37m\u001b[0m \u001b[1m2s\u001b[0m 770us/step - loss: 0.1232 - mae: 0.0435 - val_loss: 0.0906 - val_mae: 0.0405 - learning_rate: 6.3096e-04\n",
      "Epoch 26/30\n",
      "\u001b[1m2625/2625\u001b[0m \u001b[32m━━━━━━━━━━━━━━━━━━━━\u001b[0m\u001b[37m\u001b[0m \u001b[1m2s\u001b[0m 766us/step - loss: 0.1240 - mae: 0.0432 - val_loss: 0.0748 - val_mae: 0.0354 - learning_rate: 0.0010\n",
      "Epoch 27/30\n",
      "\u001b[1m2625/2625\u001b[0m \u001b[32m━━━━━━━━━━━━━━━━━━━━\u001b[0m\u001b[37m\u001b[0m \u001b[1m2s\u001b[0m 758us/step - loss: 0.1051 - mae: 0.0448 - val_loss: 0.1123 - val_mae: 0.0435 - learning_rate: 0.0016\n",
      "Epoch 28/30\n",
      "\u001b[1m2625/2625\u001b[0m \u001b[32m━━━━━━━━━━━━━━━━━━━━\u001b[0m\u001b[37m\u001b[0m \u001b[1m2s\u001b[0m 735us/step - loss: 0.1074 - mae: 0.0450 - val_loss: 0.1103 - val_mae: 0.0415 - learning_rate: 0.0025\n",
      "Epoch 29/30\n",
      "\u001b[1m2625/2625\u001b[0m \u001b[32m━━━━━━━━━━━━━━━━━━━━\u001b[0m\u001b[37m\u001b[0m \u001b[1m2s\u001b[0m 729us/step - loss: 0.1248 - mae: 0.0475 - val_loss: 0.0885 - val_mae: 0.0393 - learning_rate: 0.0040\n",
      "Epoch 30/30\n",
      "\u001b[1m2625/2625\u001b[0m \u001b[32m━━━━━━━━━━━━━━━━━━━━\u001b[0m\u001b[37m\u001b[0m \u001b[1m2s\u001b[0m 813us/step - loss: 0.1191 - mae: 0.0501 - val_loss: 0.1184 - val_mae: 0.0497 - learning_rate: 0.0063\n"
     ]
    },
    {
     "data": {
      "text/plain": [
       "<keras.src.callbacks.history.History at 0x27633b471f0>"
      ]
     },
     "execution_count": 23,
     "metadata": {},
     "output_type": "execute_result"
    }
   ],
   "source": [
    "adjust_lr(RMSprop)"
   ]
  },
  {
   "cell_type": "code",
   "execution_count": 24,
   "id": "d64c418f2fbc8894",
   "metadata": {
    "ExecuteTime": {
     "end_time": "2024-06-04T20:02:26.220586Z",
     "start_time": "2024-06-04T20:01:56.328750Z"
    }
   },
   "outputs": [
    {
     "name": "stdout",
     "output_type": "stream",
     "text": [
      "Epoch 1/200\n",
      "\u001b[1m2625/2625\u001b[0m \u001b[32m━━━━━━━━━━━━━━━━━━━━\u001b[0m\u001b[37m\u001b[0m \u001b[1m3s\u001b[0m 828us/step - accuracy: 0.7865 - loss: 0.5597 - mae: 0.1206 - val_accuracy: 0.9060 - val_loss: 0.2396 - val_mae: 0.0544\n",
      "Epoch 2/200\n",
      "\u001b[1m2625/2625\u001b[0m \u001b[32m━━━━━━━━━━━━━━━━━━━━\u001b[0m\u001b[37m\u001b[0m \u001b[1m2s\u001b[0m 862us/step - accuracy: 0.9083 - loss: 0.2524 - mae: 0.0532 - val_accuracy: 0.9204 - val_loss: 0.3234 - val_mae: 0.0460\n",
      "Epoch 3/200\n",
      "\u001b[1m2625/2625\u001b[0m \u001b[32m━━━━━━━━━━━━━━━━━━━━\u001b[0m\u001b[37m\u001b[0m \u001b[1m2s\u001b[0m 904us/step - accuracy: 0.9192 - loss: 0.3072 - mae: 0.0463 - val_accuracy: 0.9170 - val_loss: 0.4479 - val_mae: 0.0446\n",
      "Epoch 4/200\n",
      "\u001b[1m2625/2625\u001b[0m \u001b[32m━━━━━━━━━━━━━━━━━━━━\u001b[0m\u001b[37m\u001b[0m \u001b[1m2s\u001b[0m 807us/step - accuracy: 0.9296 - loss: 0.1730 - mae: 0.0402 - val_accuracy: 0.9206 - val_loss: 0.2018 - val_mae: 0.0434\n",
      "Epoch 5/200\n",
      "\u001b[1m2625/2625\u001b[0m \u001b[32m━━━━━━━━━━━━━━━━━━━━\u001b[0m\u001b[37m\u001b[0m \u001b[1m2s\u001b[0m 798us/step - accuracy: 0.9320 - loss: 0.1682 - mae: 0.0386 - val_accuracy: 0.9405 - val_loss: 0.1471 - val_mae: 0.0367\n",
      "Epoch 6/200\n",
      "\u001b[1m2625/2625\u001b[0m \u001b[32m━━━━━━━━━━━━━━━━━━━━\u001b[0m\u001b[37m\u001b[0m \u001b[1m2s\u001b[0m 771us/step - accuracy: 0.9341 - loss: 0.1614 - mae: 0.0377 - val_accuracy: 0.9428 - val_loss: 0.3622 - val_mae: 0.0359\n",
      "Epoch 7/200\n",
      "\u001b[1m2625/2625\u001b[0m \u001b[32m━━━━━━━━━━━━━━━━━━━━\u001b[0m\u001b[37m\u001b[0m \u001b[1m2s\u001b[0m 794us/step - accuracy: 0.9359 - loss: 0.1517 - mae: 0.0359 - val_accuracy: 0.9414 - val_loss: 0.1413 - val_mae: 0.0340\n",
      "Epoch 8/200\n",
      "\u001b[1m2625/2625\u001b[0m \u001b[32m━━━━━━━━━━━━━━━━━━━━\u001b[0m\u001b[37m\u001b[0m \u001b[1m2s\u001b[0m 867us/step - accuracy: 0.9377 - loss: 0.1501 - mae: 0.0351 - val_accuracy: 0.9237 - val_loss: 0.1822 - val_mae: 0.0370\n",
      "Epoch 9/200\n",
      "\u001b[1m2625/2625\u001b[0m \u001b[32m━━━━━━━━━━━━━━━━━━━━\u001b[0m\u001b[37m\u001b[0m \u001b[1m2s\u001b[0m 812us/step - accuracy: 0.9398 - loss: 0.1442 - mae: 0.0339 - val_accuracy: 0.9422 - val_loss: 0.1355 - val_mae: 0.0338\n",
      "Epoch 10/200\n",
      "\u001b[1m2625/2625\u001b[0m \u001b[32m━━━━━━━━━━━━━━━━━━━━\u001b[0m\u001b[37m\u001b[0m \u001b[1m2s\u001b[0m 885us/step - accuracy: 0.9432 - loss: 0.1406 - mae: 0.0324 - val_accuracy: 0.9514 - val_loss: 0.1193 - val_mae: 0.0293\n",
      "Epoch 11/200\n",
      "\u001b[1m2625/2625\u001b[0m \u001b[32m━━━━━━━━━━━━━━━━━━━━\u001b[0m\u001b[37m\u001b[0m \u001b[1m2s\u001b[0m 866us/step - accuracy: 0.9403 - loss: 0.1404 - mae: 0.0328 - val_accuracy: 0.9373 - val_loss: 0.1493 - val_mae: 0.0345\n",
      "Epoch 12/200\n",
      "\u001b[1m2625/2625\u001b[0m \u001b[32m━━━━━━━━━━━━━━━━━━━━\u001b[0m\u001b[37m\u001b[0m \u001b[1m2s\u001b[0m 854us/step - accuracy: 0.9421 - loss: 0.1389 - mae: 0.0324 - val_accuracy: 0.9317 - val_loss: 0.1597 - val_mae: 0.0350\n",
      "Epoch 13/200\n",
      "\u001b[1m2625/2625\u001b[0m \u001b[32m━━━━━━━━━━━━━━━━━━━━\u001b[0m\u001b[37m\u001b[0m \u001b[1m2s\u001b[0m 808us/step - accuracy: 0.9436 - loss: 0.1336 - mae: 0.0316 - val_accuracy: 0.9386 - val_loss: 0.1431 - val_mae: 0.0328\n",
      "Epoch 14/200\n",
      "\u001b[1m2625/2625\u001b[0m \u001b[32m━━━━━━━━━━━━━━━━━━━━\u001b[0m\u001b[37m\u001b[0m \u001b[1m2s\u001b[0m 787us/step - accuracy: 0.9466 - loss: 0.1357 - mae: 0.0307 - val_accuracy: 0.9400 - val_loss: 0.1436 - val_mae: 0.0319\n",
      "Epoch 15/200\n",
      "\u001b[1m2625/2625\u001b[0m \u001b[32m━━━━━━━━━━━━━━━━━━━━\u001b[0m\u001b[37m\u001b[0m \u001b[1m2s\u001b[0m 835us/step - accuracy: 0.9455 - loss: 0.1297 - mae: 0.0304 - val_accuracy: 0.9083 - val_loss: 0.2517 - val_mae: 0.0435\n",
      "Epoch 16/200\n",
      "\u001b[1m2625/2625\u001b[0m \u001b[32m━━━━━━━━━━━━━━━━━━━━\u001b[0m\u001b[37m\u001b[0m \u001b[1m2s\u001b[0m 835us/step - accuracy: 0.9463 - loss: 0.1296 - mae: 0.0304 - val_accuracy: 0.9520 - val_loss: 0.1253 - val_mae: 0.0293\n",
      "Epoch 16: early stopping\n",
      "Test loss: 0.12527094781398773 / Test accuracy: 0.9519523978233337\n"
     ]
    }
   ],
   "source": [
    "model_train, model = train_model(early_stopping,Adam(learning_rate=0.0025))"
   ]
  },
  {
   "cell_type": "markdown",
   "id": "7033b07e359c9a84",
   "metadata": {},
   "source": [
    "## Evaluate the model"
   ]
  },
  {
   "cell_type": "code",
   "execution_count": 25,
   "id": "979a2636-33e8-4e44-b059-fd6599b1dfd1",
   "metadata": {
    "ExecuteTime": {
     "end_time": "2024-06-04T20:02:26.236634Z",
     "start_time": "2024-06-04T20:02:26.221589Z"
    }
   },
   "outputs": [],
   "source": [
    "def plot(model, criteria1, criteria2, criteria3, criteria4):\n",
    "    # Ensure the provided criteria exist in model.history\n",
    "    criteria = [criteria1, criteria2, criteria3, criteria4]\n",
    "    for crit in criteria:\n",
    "        if crit not in model.history:\n",
    "            raise ValueError(f\"'{crit}' not found in model.history\")\n",
    "    \n",
    "    # Plotting\n",
    "    plt.figure(figsize=(12, 5))\n",
    "    \n",
    "    # First subplot\n",
    "    plt.subplot(1, 2, 1)\n",
    "    plt.plot(model.history[f'{criteria1}'], label=f'{criteria1}')\n",
    "    plt.plot(model.history[f'{criteria2}'], label=f'{criteria2}')\n",
    "    plt.title(f'{criteria1} vs {criteria2}')\n",
    "    plt.xlabel('Epochs')\n",
    "    plt.ylabel(f'{criteria1} and {criteria2}')\n",
    "    plt.legend()\n",
    "    \n",
    "    # Second subplot\n",
    "    plt.subplot(1, 2, 2)\n",
    "    plt.plot(model.history[f'{criteria3}'], label=f'{criteria3}')\n",
    "    plt.plot(model.history[f'{criteria4}'], label=f'{criteria4}')\n",
    "    plt.title(f'{criteria3} vs {criteria4}')\n",
    "    plt.xlabel('Epochs')\n",
    "    plt.ylabel(f'{criteria3} and {criteria4}')\n",
    "    plt.legend()\n",
    "    \n",
    "    plt.tight_layout()\n",
    "    plt.show()"
   ]
  },
  {
   "cell_type": "code",
   "execution_count": 26,
   "id": "fc4e0295066a56cb",
   "metadata": {
    "ExecuteTime": {
     "end_time": "2024-06-04T20:02:49.125971Z",
     "start_time": "2024-06-04T20:02:48.984909Z"
    }
   },
   "outputs": [
    {
     "data": {
      "image/png": "[encoded data removed]",
      "text/plain": [
       "<Figure size 1200x500 with 2 Axes>"
      ]
     },
     "metadata": {},
     "output_type": "display_data"
    }
   ],
   "source": [
    "plot(adjust_learning_rate, \"loss\", \"val_loss\", \"mae\", \"val_mae\" )"
   ]
  },
  {
   "cell_type": "code",
   "execution_count": 27,
   "id": "12f6ffa916147710",
   "metadata": {
    "ExecuteTime": {
     "end_time": "2024-06-04T20:02:50.007336Z",
     "start_time": "2024-06-04T20:02:49.857222Z"
    }
   },
   "outputs": [
    {
     "data": {
      "image/png": "[encoded data removed]",
      "text/plain": [
       "<Figure size 1200x500 with 2 Axes>"
      ]
     },
     "metadata": {},
     "output_type": "display_data"
    }
   ],
   "source": [
    "plot(model_train,\"accuracy\", \"val_accuracy\",\"loss\",\"val_loss\")"
   ]
  },
  {
   "cell_type": "markdown",
   "id": "bdf28ba1-0936-40f2-8438-1eafb87d91a1",
   "metadata": {},
   "source": [
    "## Predict"
   ]
  },
  {
   "cell_type": "code",
   "execution_count": 28,
   "id": "452f9d43-7890-4f39-a565-51aa10e35bbb",
   "metadata": {
    "ExecuteTime": {
     "end_time": "2024-06-04T20:02:52.046073Z",
     "start_time": "2024-06-04T20:02:52.031645Z"
    }
   },
   "outputs": [],
   "source": [
    "# This function doesn't use normalized for the input feature\n",
    "\n",
    "#['energi_(kal)', 'protein_(g)', 'lemak_(g)','karbohidrat_(g)', 'serat_(g)', 'natrium_(mg)']\n",
    "#{'A': 0, 'B': 1, 'C': 2, 'D': 3, 'E': 4}\n",
    "\n",
    "def output(energi, protein, lemak, karbohidrat, serat, natrium):\n",
    "    index_to_grade = {0: 'A', 1: 'B', 2: 'C', 3: 'D', 4: 'E'}\n",
    "    input_data = np.array([[energi, protein, lemak, karbohidrat, serat, natrium]])\n",
    "    predict = model.predict(input_data)\n",
    "    max_index = np.argmax(predict)\n",
    "    grade = index_to_grade[max_index]\n",
    "    predict = np.array2string(predict, formatter={'float_kind':'{0:.3f}'.format})\n",
    "    \n",
    "    return grade, predict"
   ]
  },
  {
   "cell_type": "code",
   "execution_count": 29,
   "id": "ce3c89156e4b410d",
   "metadata": {
    "ExecuteTime": {
     "end_time": "2024-06-04T20:02:52.343633Z",
     "start_time": "2024-06-04T20:02:52.324970Z"
    }
   },
   "outputs": [],
   "source": [
    "def real_class(energi, protein, lemak, karbohidrat, serat, natrium):\n",
    "    negative_score = (\n",
    "        min(int(energi/ 80), 10) +\n",
    "        min(int(lemak / 1), 10) +\n",
    "        min(int(karbohidrat / 4.5), 10) +  \n",
    "        min(int(natrium / 90), 10)\n",
    "    )\n",
    "    positive_score = (\n",
    "        min(int(serat /0.7), 5) +\n",
    "        min(int(protein / 1.6), 5) \n",
    "    )\n",
    "    score = negative_score - positive_score\n",
    "    if score <= -1:\n",
    "        return \"A\"\n",
    "    elif -1 < score <= 2:\n",
    "        return \"B\"\n",
    "    elif 2 < score <= 10:\n",
    "        return \"C\"\n",
    "    elif 10 < score <= 18:\n",
    "        return \"D\"\n",
    "    else:\n",
    "        return \"E\"\n",
    "    "
   ]
  },
  {
   "cell_type": "code",
   "execution_count": 30,
   "id": "cc580cb5-339f-4a77-b4c3-948c93581b2e",
   "metadata": {
    "ExecuteTime": {
     "end_time": "2024-06-04T20:14:39.145373Z",
     "start_time": "2024-06-04T20:14:39.127371Z"
    }
   },
   "outputs": [],
   "source": [
    "#input\n",
    "#['energi_(kal)', 'protein_(g)', 'lemak_(g)','karbohidrat_(g)', 'serat_(g)', 'natrium_(mg)']\n",
    "def testing():\n",
    "    result = []\n",
    "    \n",
    "    data_testing = {\n",
    "        \"output 1\" : [0.09, 2, 4, 12, 0, 220],\n",
    "        \"output 2\" : [554, 8.3, 19.7, 39.5, 4.2, 400],\n",
    "        \"output 3\" : [643,4.8,38.6,31.0,0,0],\n",
    "        \"output 4\" : [500,5,12.5,0,0,300],\n",
    "        \"output 5\" : [550,10,15,0,0,575],\n",
    "        \"output 6\" : [533,6,23,26,0,150],\n",
    "        \"output 7\" : [555,11,33,22,3.1,222],\n",
    "        \"output 8\" : [484,6,8.1,33.4,0,490],\n",
    "        \"output 9\" : [600,12,18,28,0,0],\n",
    "        \"output 10\" : [527,5,16,55,2.7,69],\n",
    "        \"output 11\" : [500,8,8,16,8.3,708],\n",
    "        \"output 12\" : [500,9.09,12.5,45,4.54,227],\n",
    "        \"output 13\" : [550,20,15,0,0,625],\n",
    "        \"output 14\" : [536,11.3,33.6,45.2,0,88],\n",
    "        \"output 15\" : [487,7.6,12.8,30.7,5.12,294.8],\n",
    "        \"output 16\" : [500,6.25,21.875,31.25,6.25,187.5],\n",
    "        \"output 17\" : [492,4.3,10.1,38.4,2.5,534],\n",
    "        \"output 18\" : [714.2,0,57.1,0,0,571.4],\n",
    "        \"output 19\" : [480,48,10,0,0,770],\n",
    "        \"output 20\" : [500,8.3,8.3,33.3,0,208.3],\n",
    "        \"output 21\" : [50,10,20,45,5,75],\n",
    "        \"output 22\" : [500,0,12.5,5,10,850],\n",
    "        \"output 23\" : [333,6.6,5,56.6,0,83.3],\n",
    "        \"output 24\" : [500,0,12.5,5,10,450],\n",
    "        \"output 25\" : [520,4,14,4,0,300],\n",
    "        \"output 26\" : [337,8.5,1.1,22.4,8.6,220],\n",
    "        \"output 27\" : [375,54.16,10.41,16.66,4.16,0]\n",
    "    }\n",
    "    \n",
    "    for key, input_values in data_testing.items():\n",
    "        grade, prediction = output(*input_values)\n",
    "        real_grade = real_class(*input_values)\n",
    "        result.append((key, grade, prediction,real_grade))\n",
    "        \n",
    "    \n",
    "    correct_pred = 0\n",
    "    for item in result:\n",
    "        if item[1] == item[3]:\n",
    "            correct_pred += 1\n",
    "    \n",
    "    return print(f'Total Correct: {correct_pred} from {len(result)}'), result\n",
    "    \n",
    "#output\n",
    "#{'A': 0, 'B': 1, 'C': 2, 'D': 3, 'E': 4}"
   ]
  },
  {
   "cell_type": "code",
   "execution_count": 31,
   "id": "49e29c81d0640ae1",
   "metadata": {
    "ExecuteTime": {
     "end_time": "2024-06-04T20:14:40.388451Z",
     "start_time": "2024-06-04T20:14:39.559489Z"
    }
   },
   "outputs": [
    {
     "name": "stdout",
     "output_type": "stream",
     "text": [
      "\u001b[1m1/1\u001b[0m \u001b[32m━━━━━━━━━━━━━━━━━━━━\u001b[0m\u001b[37m\u001b[0m \u001b[1m0s\u001b[0m 32ms/step\n",
      "\u001b[1m1/1\u001b[0m \u001b[32m━━━━━━━━━━━━━━━━━━━━\u001b[0m\u001b[37m\u001b[0m \u001b[1m0s\u001b[0m 8ms/step\n",
      "\u001b[1m1/1\u001b[0m \u001b[32m━━━━━━━━━━━━━━━━━━━━\u001b[0m\u001b[37m\u001b[0m \u001b[1m0s\u001b[0m 15ms/step\n",
      "\u001b[1m1/1\u001b[0m \u001b[32m━━━━━━━━━━━━━━━━━━━━\u001b[0m\u001b[37m\u001b[0m \u001b[1m0s\u001b[0m 9ms/step\n",
      "\u001b[1m1/1\u001b[0m \u001b[32m━━━━━━━━━━━━━━━━━━━━\u001b[0m\u001b[37m\u001b[0m \u001b[1m0s\u001b[0m 34ms/step\n",
      "\u001b[1m1/1\u001b[0m \u001b[32m━━━━━━━━━━━━━━━━━━━━\u001b[0m\u001b[37m\u001b[0m \u001b[1m0s\u001b[0m 13ms/step\n",
      "\u001b[1m1/1\u001b[0m \u001b[32m━━━━━━━━━━━━━━━━━━━━\u001b[0m\u001b[37m\u001b[0m \u001b[1m0s\u001b[0m 12ms/step\n",
      "\u001b[1m1/1\u001b[0m \u001b[32m━━━━━━━━━━━━━━━━━━━━\u001b[0m\u001b[37m\u001b[0m \u001b[1m0s\u001b[0m 13ms/step\n",
      "\u001b[1m1/1\u001b[0m \u001b[32m━━━━━━━━━━━━━━━━━━━━\u001b[0m\u001b[37m\u001b[0m \u001b[1m0s\u001b[0m 8ms/step\n",
      "\u001b[1m1/1\u001b[0m \u001b[32m━━━━━━━━━━━━━━━━━━━━\u001b[0m\u001b[37m\u001b[0m \u001b[1m0s\u001b[0m 13ms/step\n",
      "\u001b[1m1/1\u001b[0m \u001b[32m━━━━━━━━━━━━━━━━━━━━\u001b[0m\u001b[37m\u001b[0m \u001b[1m0s\u001b[0m 12ms/step\n",
      "\u001b[1m1/1\u001b[0m \u001b[32m━━━━━━━━━━━━━━━━━━━━\u001b[0m\u001b[37m\u001b[0m \u001b[1m0s\u001b[0m 12ms/step\n",
      "\u001b[1m1/1\u001b[0m \u001b[32m━━━━━━━━━━━━━━━━━━━━\u001b[0m\u001b[37m\u001b[0m \u001b[1m0s\u001b[0m 12ms/step\n",
      "\u001b[1m1/1\u001b[0m \u001b[32m━━━━━━━━━━━━━━━━━━━━\u001b[0m\u001b[37m\u001b[0m \u001b[1m0s\u001b[0m 8ms/step\n",
      "\u001b[1m1/1\u001b[0m \u001b[32m━━━━━━━━━━━━━━━━━━━━\u001b[0m\u001b[37m\u001b[0m \u001b[1m0s\u001b[0m 8ms/step\n",
      "\u001b[1m1/1\u001b[0m \u001b[32m━━━━━━━━━━━━━━━━━━━━\u001b[0m\u001b[37m\u001b[0m \u001b[1m0s\u001b[0m 12ms/step\n",
      "\u001b[1m1/1\u001b[0m \u001b[32m━━━━━━━━━━━━━━━━━━━━\u001b[0m\u001b[37m\u001b[0m \u001b[1m0s\u001b[0m 12ms/step\n",
      "\u001b[1m1/1\u001b[0m \u001b[32m━━━━━━━━━━━━━━━━━━━━\u001b[0m\u001b[37m\u001b[0m \u001b[1m0s\u001b[0m 13ms/step\n",
      "\u001b[1m1/1\u001b[0m \u001b[32m━━━━━━━━━━━━━━━━━━━━\u001b[0m\u001b[37m\u001b[0m \u001b[1m0s\u001b[0m 8ms/step\n",
      "\u001b[1m1/1\u001b[0m \u001b[32m━━━━━━━━━━━━━━━━━━━━\u001b[0m\u001b[37m\u001b[0m \u001b[1m0s\u001b[0m 13ms/step\n",
      "\u001b[1m1/1\u001b[0m \u001b[32m━━━━━━━━━━━━━━━━━━━━\u001b[0m\u001b[37m\u001b[0m \u001b[1m0s\u001b[0m 12ms/step\n",
      "\u001b[1m1/1\u001b[0m \u001b[32m━━━━━━━━━━━━━━━━━━━━\u001b[0m\u001b[37m\u001b[0m \u001b[1m0s\u001b[0m 12ms/step\n",
      "\u001b[1m1/1\u001b[0m \u001b[32m━━━━━━━━━━━━━━━━━━━━\u001b[0m\u001b[37m\u001b[0m \u001b[1m0s\u001b[0m 12ms/step\n",
      "\u001b[1m1/1\u001b[0m \u001b[32m━━━━━━━━━━━━━━━━━━━━\u001b[0m\u001b[37m\u001b[0m \u001b[1m0s\u001b[0m 8ms/step\n",
      "\u001b[1m1/1\u001b[0m \u001b[32m━━━━━━━━━━━━━━━━━━━━\u001b[0m\u001b[37m\u001b[0m \u001b[1m0s\u001b[0m 12ms/step\n",
      "\u001b[1m1/1\u001b[0m \u001b[32m━━━━━━━━━━━━━━━━━━━━\u001b[0m\u001b[37m\u001b[0m \u001b[1m0s\u001b[0m 12ms/step\n",
      "\u001b[1m1/1\u001b[0m \u001b[32m━━━━━━━━━━━━━━━━━━━━\u001b[0m\u001b[37m\u001b[0m \u001b[1m0s\u001b[0m 13ms/step\n",
      "Total Correct: 14 from 27\n"
     ]
    },
    {
     "data": {
      "text/plain": [
       "(None,\n",
       " [('output 1', 'C', '[[0.000 0.018 0.785 0.160 0.038]]', 'C'),\n",
       "  ('output 2', 'E', '[[0.000 0.000 0.035 0.307 0.658]]', 'D'),\n",
       "  ('output 3', 'E', '[[0.000 0.000 0.000 0.015 0.984]]', 'E'),\n",
       "  ('output 4', 'E', '[[0.000 0.000 0.042 0.470 0.488]]', 'D'),\n",
       "  ('output 5', 'E', '[[0.000 0.000 0.042 0.473 0.485]]', 'D'),\n",
       "  ('output 6', 'D', '[[0.000 0.000 0.002 0.730 0.269]]', 'E'),\n",
       "  ('output 7', 'D', '[[0.000 0.000 0.016 0.911 0.073]]', 'D'),\n",
       "  ('output 8', 'D', '[[0.000 0.000 0.044 0.485 0.472]]', 'E'),\n",
       "  ('output 9', 'E', '[[0.000 0.000 0.000 0.393 0.607]]', 'D'),\n",
       "  ('output 10', 'E', '[[0.000 0.000 0.000 0.007 0.993]]', 'E'),\n",
       "  ('output 11', 'C', '[[0.000 0.001 0.409 0.407 0.183]]', 'D'),\n",
       "  ('output 12', 'E', '[[0.000 0.000 0.039 0.416 0.545]]', 'D'),\n",
       "  ('output 13', 'D', '[[0.000 0.000 0.075 0.519 0.406]]', 'D'),\n",
       "  ('output 14', 'E', '[[0.000 0.000 0.001 0.235 0.764]]', 'E'),\n",
       "  ('output 15', 'E', '[[0.000 0.000 0.042 0.463 0.495]]', 'D'),\n",
       "  ('output 16', 'D', '[[0.000 0.000 0.010 0.940 0.050]]', 'D'),\n",
       "  ('output 17', 'E', '[[0.000 0.000 0.041 0.435 0.524]]', 'E'),\n",
       "  ('output 18', 'E', '[[0.000 0.000 0.027 0.161 0.812]]', 'E'),\n",
       "  ('output 19', 'C', '[[0.000 0.001 0.409 0.407 0.183]]', 'E'),\n",
       "  ('output 20', 'D', '[[0.000 0.000 0.025 0.510 0.465]]', 'D'),\n",
       "  ('output 21', 'C', '[[0.000 0.000 0.867 0.133 0.000]]', 'C'),\n",
       "  ('output 22', 'C', '[[0.000 0.001 0.409 0.407 0.183]]', 'E'),\n",
       "  ('output 23', 'D', '[[0.000 0.000 0.000 0.984 0.015]]', 'D'),\n",
       "  ('output 24', 'D', '[[0.000 0.001 0.188 0.553 0.257]]', 'D'),\n",
       "  ('output 25', 'E', '[[0.000 0.000 0.038 0.396 0.566]]', 'D'),\n",
       "  ('output 26', 'C', '[[0.008 0.303 0.531 0.150 0.007]]', 'B'),\n",
       "  ('output 27', 'C', '[[0.000 0.000 1.000 0.000 0.000]]', 'C')])"
      ]
     },
     "execution_count": 31,
     "metadata": {},
     "output_type": "execute_result"
    }
   ],
   "source": [
    "testing()"
   ]
  },
  {
   "cell_type": "markdown",
   "id": "20c041b9bde91f8a",
   "metadata": {},
   "source": [
    "## Save the model"
   ]
  },
  {
   "cell_type": "code",
   "execution_count": 32,
   "id": "2bb6eb50-dc2a-4fef-806c-7c8f7cb1e849",
   "metadata": {
    "ExecuteTime": {
     "end_time": "2024-06-04T20:05:57.474859Z",
     "start_time": "2024-06-04T20:05:57.454759Z"
    }
   },
   "outputs": [
    {
     "name": "stderr",
     "output_type": "stream",
     "text": [
      "WARNING:absl:You are saving your model as an HDF5 file via `model.save()` or `keras.saving.save_model(model)`. This file format is considered legacy. We recommend using instead the native Keras format, e.g. `model.save('my_model.keras')` or `keras.saving.save_model(model, 'my_model.keras')`. \n"
     ]
    }
   ],
   "source": [
    "model.save(\"app/model/nutrigrade_model.h5\")"
   ]
  },
  {
   "cell_type": "markdown",
   "id": "5da47a410e7390ee",
   "metadata": {},
   "source": [
    "## Testing Model Saved"
   ]
  },
  {
   "cell_type": "code",
   "execution_count": 33,
   "id": "57daf1484edcd72a",
   "metadata": {
    "ExecuteTime": {
     "end_time": "2024-06-04T20:07:12.146257Z",
     "start_time": "2024-06-04T20:07:12.117888Z"
    }
   },
   "outputs": [],
   "source": [
    "model = load_model('app/model/nutrigrade_model.h5', compile=False)"
   ]
  },
  {
   "cell_type": "code",
   "execution_count": 34,
   "id": "8f48f0c5fc1e7967",
   "metadata": {
    "ExecuteTime": {
     "end_time": "2024-06-04T20:07:12.817371Z",
     "start_time": "2024-06-04T20:07:12.798746Z"
    }
   },
   "outputs": [],
   "source": [
    "# This function uses normalized for the input feature\n",
    "\n",
    "#['energi_(kal)', 'protein_(g)', 'lemak_(g)','karbohidrat_(g)', 'serat_(g)', 'natrium_(mg)']\n",
    "#{'A': 0, 'B': 1, 'C': 2, 'D': 3, 'E': 4}\n",
    "\n",
    "def output(energi, protein, lemak, karbohidrat, serat, natrium):\n",
    "    index_to_grade = {0: 'A', 1: 'B', 2: 'C', 3: 'D', 4: 'E'}\n",
    "    input_data = np.array([[energi, protein, lemak, karbohidrat, serat, natrium]])\n",
    "    input_data_normalized = normalizer(input_data)\n",
    "    predict = model.predict(input_data_normalized)\n",
    "    max_index = np.argmax(predict)\n",
    "    grade = index_to_grade[max_index]\n",
    "    predict = np.array2string(predict, formatter={'float_kind':'{0:.3f}'.format})\n",
    "    \n",
    "    return grade, predict"
   ]
  },
  {
   "cell_type": "code",
   "execution_count": 35,
   "id": "5bd999769394a6d4",
   "metadata": {
    "ExecuteTime": {
     "end_time": "2024-06-04T20:15:07.729264Z",
     "start_time": "2024-06-04T20:15:06.927540Z"
    }
   },
   "outputs": [
    {
     "name": "stdout",
     "output_type": "stream",
     "text": [
      "\u001b[1m1/1\u001b[0m \u001b[32m━━━━━━━━━━━━━━━━━━━━\u001b[0m\u001b[37m\u001b[0m \u001b[1m0s\u001b[0m 32ms/step\n",
      "\u001b[1m1/1\u001b[0m \u001b[32m━━━━━━━━━━━━━━━━━━━━\u001b[0m\u001b[37m\u001b[0m \u001b[1m0s\u001b[0m 13ms/step\n",
      "\u001b[1m1/1\u001b[0m \u001b[32m━━━━━━━━━━━━━━━━━━━━\u001b[0m\u001b[37m\u001b[0m \u001b[1m0s\u001b[0m 11ms/step\n",
      "\u001b[1m1/1\u001b[0m \u001b[32m━━━━━━━━━━━━━━━━━━━━\u001b[0m\u001b[37m\u001b[0m \u001b[1m0s\u001b[0m 11ms/step\n",
      "\u001b[1m1/1\u001b[0m \u001b[32m━━━━━━━━━━━━━━━━━━━━\u001b[0m\u001b[37m\u001b[0m \u001b[1m0s\u001b[0m 11ms/step\n",
      "\u001b[1m1/1\u001b[0m \u001b[32m━━━━━━━━━━━━━━━━━━━━\u001b[0m\u001b[37m\u001b[0m \u001b[1m0s\u001b[0m 11ms/step\n",
      "\u001b[1m1/1\u001b[0m \u001b[32m━━━━━━━━━━━━━━━━━━━━\u001b[0m\u001b[37m\u001b[0m \u001b[1m0s\u001b[0m 9ms/step\n",
      "\u001b[1m1/1\u001b[0m \u001b[32m━━━━━━━━━━━━━━━━━━━━\u001b[0m\u001b[37m\u001b[0m \u001b[1m0s\u001b[0m 15ms/step\n",
      "\u001b[1m1/1\u001b[0m \u001b[32m━━━━━━━━━━━━━━━━━━━━\u001b[0m\u001b[37m\u001b[0m \u001b[1m0s\u001b[0m 8ms/step\n",
      "\u001b[1m1/1\u001b[0m \u001b[32m━━━━━━━━━━━━━━━━━━━━\u001b[0m\u001b[37m\u001b[0m \u001b[1m0s\u001b[0m 13ms/step\n",
      "\u001b[1m1/1\u001b[0m \u001b[32m━━━━━━━━━━━━━━━━━━━━\u001b[0m\u001b[37m\u001b[0m \u001b[1m0s\u001b[0m 12ms/step\n",
      "\u001b[1m1/1\u001b[0m \u001b[32m━━━━━━━━━━━━━━━━━━━━\u001b[0m\u001b[37m\u001b[0m \u001b[1m0s\u001b[0m 12ms/step\n",
      "\u001b[1m1/1\u001b[0m \u001b[32m━━━━━━━━━━━━━━━━━━━━\u001b[0m\u001b[37m\u001b[0m \u001b[1m0s\u001b[0m 13ms/step\n",
      "\u001b[1m1/1\u001b[0m \u001b[32m━━━━━━━━━━━━━━━━━━━━\u001b[0m\u001b[37m\u001b[0m \u001b[1m0s\u001b[0m 10ms/step\n",
      "\u001b[1m1/1\u001b[0m \u001b[32m━━━━━━━━━━━━━━━━━━━━\u001b[0m\u001b[37m\u001b[0m \u001b[1m0s\u001b[0m 13ms/step\n",
      "\u001b[1m1/1\u001b[0m \u001b[32m━━━━━━━━━━━━━━━━━━━━\u001b[0m\u001b[37m\u001b[0m \u001b[1m0s\u001b[0m 11ms/step\n",
      "\u001b[1m1/1\u001b[0m \u001b[32m━━━━━━━━━━━━━━━━━━━━\u001b[0m\u001b[37m\u001b[0m \u001b[1m0s\u001b[0m 12ms/step\n",
      "\u001b[1m1/1\u001b[0m \u001b[32m━━━━━━━━━━━━━━━━━━━━\u001b[0m\u001b[37m\u001b[0m \u001b[1m0s\u001b[0m 12ms/step\n",
      "\u001b[1m1/1\u001b[0m \u001b[32m━━━━━━━━━━━━━━━━━━━━\u001b[0m\u001b[37m\u001b[0m \u001b[1m0s\u001b[0m 14ms/step\n",
      "\u001b[1m1/1\u001b[0m \u001b[32m━━━━━━━━━━━━━━━━━━━━\u001b[0m\u001b[37m\u001b[0m \u001b[1m0s\u001b[0m 9ms/step\n",
      "\u001b[1m1/1\u001b[0m \u001b[32m━━━━━━━━━━━━━━━━━━━━\u001b[0m\u001b[37m\u001b[0m \u001b[1m0s\u001b[0m 11ms/step\n",
      "\u001b[1m1/1\u001b[0m \u001b[32m━━━━━━━━━━━━━━━━━━━━\u001b[0m\u001b[37m\u001b[0m \u001b[1m0s\u001b[0m 12ms/step\n",
      "\u001b[1m1/1\u001b[0m \u001b[32m━━━━━━━━━━━━━━━━━━━━\u001b[0m\u001b[37m\u001b[0m \u001b[1m0s\u001b[0m 12ms/step\n",
      "\u001b[1m1/1\u001b[0m \u001b[32m━━━━━━━━━━━━━━━━━━━━\u001b[0m\u001b[37m\u001b[0m \u001b[1m0s\u001b[0m 12ms/step\n",
      "\u001b[1m1/1\u001b[0m \u001b[32m━━━━━━━━━━━━━━━━━━━━\u001b[0m\u001b[37m\u001b[0m \u001b[1m0s\u001b[0m 12ms/step\n",
      "\u001b[1m1/1\u001b[0m \u001b[32m━━━━━━━━━━━━━━━━━━━━\u001b[0m\u001b[37m\u001b[0m \u001b[1m0s\u001b[0m 13ms/step\n",
      "\u001b[1m1/1\u001b[0m \u001b[32m━━━━━━━━━━━━━━━━━━━━\u001b[0m\u001b[37m\u001b[0m \u001b[1m0s\u001b[0m 8ms/step\n",
      "Total Correct: 14 from 27\n"
     ]
    },
    {
     "data": {
      "text/plain": [
       "(None,\n",
       " [('output 1', 'C', '[[0.000 0.018 0.785 0.160 0.038]]', 'C'),\n",
       "  ('output 2', 'E', '[[0.000 0.000 0.035 0.307 0.658]]', 'D'),\n",
       "  ('output 3', 'E', '[[0.000 0.000 0.000 0.015 0.984]]', 'E'),\n",
       "  ('output 4', 'E', '[[0.000 0.000 0.042 0.470 0.488]]', 'D'),\n",
       "  ('output 5', 'E', '[[0.000 0.000 0.042 0.473 0.485]]', 'D'),\n",
       "  ('output 6', 'D', '[[0.000 0.000 0.002 0.730 0.269]]', 'E'),\n",
       "  ('output 7', 'D', '[[0.000 0.000 0.016 0.911 0.073]]', 'D'),\n",
       "  ('output 8', 'D', '[[0.000 0.000 0.044 0.485 0.472]]', 'E'),\n",
       "  ('output 9', 'E', '[[0.000 0.000 0.000 0.393 0.607]]', 'D'),\n",
       "  ('output 10', 'E', '[[0.000 0.000 0.000 0.007 0.993]]', 'E'),\n",
       "  ('output 11', 'C', '[[0.000 0.001 0.409 0.407 0.183]]', 'D'),\n",
       "  ('output 12', 'E', '[[0.000 0.000 0.039 0.416 0.545]]', 'D'),\n",
       "  ('output 13', 'D', '[[0.000 0.000 0.075 0.519 0.406]]', 'D'),\n",
       "  ('output 14', 'E', '[[0.000 0.000 0.001 0.235 0.764]]', 'E'),\n",
       "  ('output 15', 'E', '[[0.000 0.000 0.042 0.463 0.495]]', 'D'),\n",
       "  ('output 16', 'D', '[[0.000 0.000 0.010 0.940 0.050]]', 'D'),\n",
       "  ('output 17', 'E', '[[0.000 0.000 0.041 0.435 0.524]]', 'E'),\n",
       "  ('output 18', 'E', '[[0.000 0.000 0.027 0.161 0.812]]', 'E'),\n",
       "  ('output 19', 'C', '[[0.000 0.001 0.409 0.407 0.183]]', 'E'),\n",
       "  ('output 20', 'D', '[[0.000 0.000 0.025 0.510 0.465]]', 'D'),\n",
       "  ('output 21', 'C', '[[0.000 0.000 0.867 0.133 0.000]]', 'C'),\n",
       "  ('output 22', 'C', '[[0.000 0.001 0.409 0.407 0.183]]', 'E'),\n",
       "  ('output 23', 'D', '[[0.000 0.000 0.000 0.984 0.015]]', 'D'),\n",
       "  ('output 24', 'D', '[[0.000 0.001 0.188 0.553 0.257]]', 'D'),\n",
       "  ('output 25', 'E', '[[0.000 0.000 0.038 0.396 0.566]]', 'D'),\n",
       "  ('output 26', 'C', '[[0.008 0.303 0.531 0.150 0.007]]', 'B'),\n",
       "  ('output 27', 'C', '[[0.000 0.000 1.000 0.000 0.000]]', 'C')])"
      ]
     },
     "execution_count": 35,
     "metadata": {},
     "output_type": "execute_result"
    }
   ],
   "source": [
    "testing()"
   ]
  },
  {
   "cell_type": "code",
   "execution_count": null,
   "id": "3fe0e610c6a78bab",
   "metadata": {},
   "outputs": [],
   "source": []
  }
 ],
 "metadata": {
  "kernelspec": {
   "display_name": "Python 3 (ipykernel)",
   "language": "python",
   "name": "python3"
  },
  "language_info": {
   "codemirror_mode": {
    "name": "ipython",
    "version": 3
   },
   "file_extension": ".py",
   "mimetype": "text/x-python",
   "name": "python",
   "nbconvert_exporter": "python",
   "pygments_lexer": "ipython3",
   "version": "3.10.11"
  }
 },
 "nbformat": 4,
 "nbformat_minor": 5
}
